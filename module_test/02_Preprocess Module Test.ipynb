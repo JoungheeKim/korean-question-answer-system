{
 "cells": [
  {
   "cell_type": "markdown",
   "metadata": {},
   "source": [
    "# 전처리 모듈 테스트\n",
    "스크래핑을 통해 가져온 HTML을 파싱한 후 질문에 대한 정답이 어느정도 있는지 확인하여 모듈의 성능을 테스트합니다."
   ]
  },
  {
   "cell_type": "code",
   "execution_count": 1,
   "metadata": {},
   "outputs": [],
   "source": [
    "import sys\n",
    "## Root 파일(.py)을 Import 하기\n",
    "sys.path.append(\"../\")"
   ]
  },
  {
   "cell_type": "code",
   "execution_count": 2,
   "metadata": {},
   "outputs": [],
   "source": [
    "from scrap import get_wiki_data, get_blog_data\n",
    "from convert import Korquad2_Converter\n",
    "from blog_convert import Blog_Converter\n",
    "import pandas as pd"
   ]
  },
  {
   "cell_type": "code",
   "execution_count": 3,
   "metadata": {},
   "outputs": [],
   "source": [
    "#한글 폰트 사용\n",
    "from matplotlib import font_manager,rc\n",
    "import matplotlib\n",
    "import matplotlib.pyplot as plt\n",
    "#폰트 경로\n",
    "font_path = \"C:/Windows/Fonts/H2GTRM.TTF\"\n",
    "#폰트 이름 얻어오기\n",
    "font_name = font_manager.FontProperties(fname=font_path).get_name()\n",
    "#font 설정\n",
    "matplotlib.rc('font',family=font_name)"
   ]
  },
  {
   "cell_type": "markdown",
   "metadata": {},
   "source": [
    "## 1. 크롤링 테스트 QA 데이터\n",
    "QA_testset은 8가지 카테고리를 갖고 있는 총 100개 데이터셋입니다. 질문과 짧은 답변으로만 이루어져 있으므로 스크래핑된 HTML에 답변이 있는지에 대한 간단한 모듈테스트에 적합합니다. 'QA_crawler_test_result.csv'는 Crawler Module Test가 완료된 csv 파일입니다."
   ]
  },
  {
   "cell_type": "code",
   "execution_count": 4,
   "metadata": {},
   "outputs": [],
   "source": [
    "data_path = 'QA_crawler_test_result.csv'\n",
    "test_df = pd.read_csv(data_path)"
   ]
  },
  {
   "cell_type": "code",
   "execution_count": 5,
   "metadata": {},
   "outputs": [
    {
     "data": {
      "text/plain": [
       "array(['역사', '경제경영', '사회', '정치', '과학', '문화스포츠', '인문학', '기타'], dtype=object)"
      ]
     },
     "execution_count": 5,
     "metadata": {},
     "output_type": "execute_result"
    }
   ],
   "source": [
    "test_df['카테고리'].unique()"
   ]
  },
  {
   "cell_type": "markdown",
   "metadata": {},
   "source": [
    "## 2. WIKI 전처리 모듈 테스트\n",
    "[위키피디아](https://ko.wikipedia.org/w/index.php?search=) 에서 크롤링한 데이터를 전처리한 후 질문에 맞는 대답을 어느정도 갖고 있는지 테스트 합니다."
   ]
  },
  {
   "cell_type": "code",
   "execution_count": 11,
   "metadata": {},
   "outputs": [],
   "source": [
    "wiki_converter = Korquad2_Converter()\n",
    "def check_wiki_preprocess_answer(question, answer, num):\n",
    "    for html in get_wiki_data(question, num):\n",
    "        paragraphs = wiki_converter.convert_html(html)\n",
    "        for paragraph in paragraphs:\n",
    "            if answer in paragraph:\n",
    "                return 1\n",
    "    return 0"
   ]
  },
  {
   "cell_type": "code",
   "execution_count": 12,
   "metadata": {},
   "outputs": [
    {
     "name": "stdout",
     "output_type": "stream",
     "text": [
      "WIKI URL 1개의 coverage : 0.46\n",
      "Wall time: 3min 6s\n"
     ]
    }
   ],
   "source": [
    "%%time\n",
    "test_df['wiki_has_preprocess_answer_1'] = test_df.apply(lambda row: check_wiki_preprocess_answer(row['question'], row['answer'], 1), axis=1)\n",
    "print(\"WIKI URL 1개의 coverage : {}\".format(test_df['wiki_has_preprocess_answer_1'].sum()/len(test_df)))"
   ]
  },
  {
   "cell_type": "code",
   "execution_count": 13,
   "metadata": {},
   "outputs": [
    {
     "name": "stdout",
     "output_type": "stream",
     "text": [
      "WIKI URL 5개의 coverage : 0.56\n",
      "Wall time: 5min 54s\n"
     ]
    }
   ],
   "source": [
    "%%time\n",
    "test_df['wiki_has_preprocess_answer_5'] = test_df.apply(lambda row: check_wiki_preprocess_answer(row['question'], row['answer'], 5), axis=1)\n",
    "print(\"WIKI URL 5개의 coverage : {}\".format(test_df['wiki_has_preprocess_answer_5'].sum()/len(test_df)))"
   ]
  },
  {
   "cell_type": "code",
   "execution_count": 14,
   "metadata": {},
   "outputs": [],
   "source": [
    "total_count = test_df.groupby(['카테고리'])['카테고리'].count()\n",
    "wiki_has_answer_1_count = test_df.groupby(['카테고리'])['wiki_has_answer_1'].sum()\n",
    "wiki_has_answer_5_count = test_df.groupby(['카테고리'])['wiki_has_answer_5'].sum()\n",
    "wiki_has_answer_preprocess_1_count = test_df.groupby(['카테고리'])['wiki_has_preprocess_answer_1'].sum()\n",
    "wiki_has_answer_preprocess_5_count = test_df.groupby(['카테고리'])['wiki_has_preprocess_answer_5'].sum()\n",
    "wiki1 = (wiki_has_answer_1_count/total_count)\n",
    "wiki5 = (wiki_has_answer_5_count/total_count)\n",
    "wiki_preprocess1 = (wiki_has_answer_preprocess_1_count/total_count)\n",
    "wiki_preprocess5 = (wiki_has_answer_preprocess_5_count/total_count)"
   ]
  },
  {
   "cell_type": "code",
   "execution_count": 15,
   "metadata": {},
   "outputs": [
    {
     "data": {
      "text/plain": [
       "<matplotlib.axes._subplots.AxesSubplot at 0x20b674cb0f0>"
      ]
     },
     "execution_count": 15,
     "metadata": {},
     "output_type": "execute_result"
    },
    {
     "data": {
      "image/png": "[encoded data removed]",
      "text/plain": [
       "<Figure size 432x288 with 1 Axes>"
      ]
     },
     "metadata": {
      "needs_background": "light"
     },
     "output_type": "display_data"
    }
   ],
   "source": [
    "pd.concat([wiki1, wiki_preprocess1, wiki5, wiki_preprocess5], keys=['wiki1_전처리전', 'wiki1_전처리후', 'wiki5_전처리전', 'wiki5_전처리후'], axis=1).plot.bar(title=\"위키피디아 정답 포함률\")"
   ]
  },
  {
   "cell_type": "markdown",
   "metadata": {},
   "source": [
    "## 3. 블로그 전처리 모듈 테스트\n",
    "[네이버블로그](https://search.naver.com/search.naver) 에서 크롤링한 데이터를 전처리한 후 질문에 맞는 대답을 어느정도 갖고 있는지 테스트 합니다."
   ]
  },
  {
   "cell_type": "code",
   "execution_count": 6,
   "metadata": {},
   "outputs": [],
   "source": [
    "blog_converter = Blog_Converter()\n",
    "def check_blog_preprocess_answer(question, answer, num):\n",
    "    for html in get_blog_data(question, num):\n",
    "        paragraphs = blog_converter.convert_html(html)\n",
    "        for paragraph in paragraphs:\n",
    "            if answer in paragraph:\n",
    "                return 1\n",
    "    return 0"
   ]
  },
  {
   "cell_type": "code",
   "execution_count": 7,
   "metadata": {},
   "outputs": [
    {
     "name": "stdout",
     "output_type": "stream",
     "text": [
      "BLOG URL 1개의 coverage : 0.46\n",
      "Wall time: 57.5 s\n"
     ]
    }
   ],
   "source": [
    "%%time\n",
    "test_df['blog_has_preprocess_answer_1'] = test_df.apply(lambda row: check_blog_preprocess_answer(row['question'], row['answer'], 1), axis=1)\n",
    "print(\"BLOG URL 1개의 coverage : {}\".format(test_df['blog_has_preprocess_answer_1'].sum()/len(test_df)))"
   ]
  },
  {
   "cell_type": "code",
   "execution_count": 8,
   "metadata": {},
   "outputs": [
    {
     "name": "stdout",
     "output_type": "stream",
     "text": [
      "BLOG URL 5개의 coverage : 0.76\n",
      "Wall time: 2min 20s\n"
     ]
    }
   ],
   "source": [
    "%%time\n",
    "test_df['blog_has_preprocess_answer_5'] = test_df.apply(lambda row: check_blog_preprocess_answer(row['question'], row['answer'], 5), axis=1)\n",
    "print(\"BLOG URL 5개의 coverage : {}\".format(test_df['blog_has_preprocess_answer_5'].sum()/len(test_df)))"
   ]
  },
  {
   "cell_type": "code",
   "execution_count": 9,
   "metadata": {},
   "outputs": [],
   "source": [
    "total_count = test_df.groupby(['카테고리'])['카테고리'].count()\n",
    "blog_has_answer_1_count = test_df.groupby(['카테고리'])['blog_has_answer_1'].sum()\n",
    "blog_has_answer_5_count = test_df.groupby(['카테고리'])['blog_has_answer_5'].sum()\n",
    "blog_has_answer_preprocess_1_count = test_df.groupby(['카테고리'])['blog_has_preprocess_answer_1'].sum()\n",
    "blog_has_answer_preprocess_5_count = test_df.groupby(['카테고리'])['blog_has_preprocess_answer_5'].sum()\n",
    "blog1 = (blog_has_answer_1_count/total_count)\n",
    "blog5 = (blog_has_answer_5_count/total_count)\n",
    "blog_preprocess1 = (blog_has_answer_preprocess_1_count/total_count)\n",
    "blog_preprocess5 = (blog_has_answer_preprocess_5_count/total_count)"
   ]
  },
  {
   "cell_type": "code",
   "execution_count": 10,
   "metadata": {},
   "outputs": [
    {
     "data": {
      "text/plain": [
       "<matplotlib.axes._subplots.AxesSubplot at 0x20b67640b38>"
      ]
     },
     "execution_count": 10,
     "metadata": {},
     "output_type": "execute_result"
    },
    {
     "data": {
      "image/png": "[encoded data removed]",
      "text/plain": [
       "<Figure size 432x288 with 1 Axes>"
      ]
     },
     "metadata": {
      "needs_background": "light"
     },
     "output_type": "display_data"
    }
   ],
   "source": [
    "pd.concat([blog1, blog_preprocess1, blog5, blog_preprocess5], keys=['blog1_전처리전', 'blog1_전처리후', 'blog5_전처리전', 'blog5_전처리후'], axis=1).plot.bar(title=\"블로그 정답 포함률\")"
   ]
  },
  {
   "cell_type": "markdown",
   "metadata": {},
   "source": [
    "## 4. 블로그, WIKI 전처리 모듈 테스트\n",
    "위키피디아와 네이버블로그 에서 크롤링한 데이터가 질문에 맞는 대답을 어느정도 갖고 있는지 테스트 합니다."
   ]
  },
  {
   "cell_type": "code",
   "execution_count": 16,
   "metadata": {},
   "outputs": [
    {
     "name": "stdout",
     "output_type": "stream",
     "text": [
      "WIKI_BLOG URL 전처리 전 1개의 coverage : [0.62]  전처리 후 1개의 converage [0.66]\n"
     ]
    }
   ],
   "source": [
    "test_df['wiki_blog_has_answer_1'] = test_df.apply(lambda row: int(row['wiki_has_answer_1']+row['blog_has_answer_1']>0), axis=1)\n",
    "test_df['wiki_blog_has_preprocess_answer_1'] = test_df.apply(lambda row: int(row['wiki_has_preprocess_answer_1']+row['blog_has_preprocess_answer_1']>0), axis=1)\n",
    "print(\"WIKI_BLOG URL 전처리 전 1개의 coverage : [{}]  전처리 후 1개의 converage [{}]\".format(test_df['wiki_blog_has_answer_1'].sum()/len(test_df), test_df['wiki_blog_has_preprocess_answer_1'].sum()/len(test_df)))"
   ]
  },
  {
   "cell_type": "code",
   "execution_count": 17,
   "metadata": {},
   "outputs": [
    {
     "name": "stdout",
     "output_type": "stream",
     "text": [
      "WIKI_BLOG URL 전처리 전 5개의 coverage : [0.83]  전처리 후 5개의 converage [0.84]\n"
     ]
    }
   ],
   "source": [
    "test_df['wiki_blog_has_answer_5'] = test_df.apply(lambda row: int(row['wiki_has_answer_5']+row['blog_has_answer_5']>0), axis=1)\n",
    "test_df['wiki_blog_has_preprocess_answer_5'] = test_df.apply(lambda row: int(row['wiki_has_preprocess_answer_5']+row['blog_has_preprocess_answer_5']>0), axis=1)\n",
    "print(\"WIKI_BLOG URL 전처리 전 5개의 coverage : [{}]  전처리 후 5개의 converage [{}]\".format(test_df['wiki_blog_has_answer_5'].sum()/len(test_df), test_df['wiki_blog_has_preprocess_answer_5'].sum()/len(test_df)))"
   ]
  },
  {
   "cell_type": "markdown",
   "metadata": {},
   "source": [
    "## 결론 및 분석\n",
    "모듈 평가는 HTML 또는 전처리한 후 Context에 정답 TEXT가 '정확히' 있는가를 평가한다. 따라서 전처리 전 \"span\", \"p\" 테그등으로 나뉘였던 HTML이 전처리 후 하나의 Text로 합쳐졌기 때문에 오히려 전처리 후 정답 Converage가 커졌다."
   ]
  },
  {
   "cell_type": "code",
   "execution_count": 19,
   "metadata": {},
   "outputs": [],
   "source": [
    "test_df.to_csv(\"QA_preprocess_test_result.csv\")"
   ]
  },
  {
   "cell_type": "code",
   "execution_count": null,
   "metadata": {},
   "outputs": [],
   "source": []
  },
  {
   "cell_type": "code",
   "execution_count": null,
   "metadata": {},
   "outputs": [],
   "source": []
  }
 ],
 "metadata": {
  "kernelspec": {
   "display_name": "Python 3",
   "language": "python",
   "name": "python3"
  },
  "language_info": {
   "codemirror_mode": {
    "name": "ipython",
    "version": 3
   },
   "file_extension": ".py",
   "mimetype": "text/x-python",
   "name": "python",
   "nbconvert_exporter": "python",
   "pygments_lexer": "ipython3",
   "version": "3.6.10"
  }
 },
 "nbformat": 4,
 "nbformat_minor": 4
}
