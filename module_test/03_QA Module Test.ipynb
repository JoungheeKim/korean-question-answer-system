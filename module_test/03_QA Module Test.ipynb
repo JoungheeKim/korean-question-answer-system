{
 "cells": [
  {
   "cell_type": "markdown",
   "metadata": {},
   "source": [
    "# Q&A 모듈 테스트\n",
    "전체 모듈에 대한 성능을 테스트 합니다."
   ]
  },
  {
   "cell_type": "code",
   "execution_count": 1,
   "metadata": {},
   "outputs": [],
   "source": [
    "import sys\n",
    "## Root 파일(.py)을 Import 하기\n",
    "sys.path.append(\"../\")"
   ]
  },
  {
   "cell_type": "code",
   "execution_count": 3,
   "metadata": {},
   "outputs": [],
   "source": [
    "from qna_adaptor import QuestionAnswerResponsor\n",
    "from scrap import get_wiki_data, get_blog_data\n",
    "from wiki_convert import Korquad2_Converter\n",
    "from blog_convert import Blog_Converter\n",
    "import pandas as pd"
   ]
  },
  {
   "cell_type": "code",
   "execution_count": 4,
   "metadata": {},
   "outputs": [],
   "source": [
    "#한글 폰트 사용\n",
    "from matplotlib import font_manager,rc\n",
    "import matplotlib\n",
    "import matplotlib.pyplot as plt\n",
    "#폰트 경로\n",
    "font_path = \"C:/Windows/Fonts/H2GTRM.TTF\"\n",
    "#폰트 이름 얻어오기\n",
    "font_name = font_manager.FontProperties(fname=font_path).get_name()\n",
    "#font 설정\n",
    "matplotlib.rc('font',family=font_name)"
   ]
  },
  {
   "cell_type": "markdown",
   "metadata": {},
   "source": [
    "## 모듈 테스트 QA 데이터\n",
    "QA_testset은 8가지 카테고리를 갖고 있는 총 100개 데이터셋입니다. 질문과 짧은 답변으로만 이루어져 있으므로 Q&A 시스템을 통해 나온 문장에 답변이 있는지에 대한 간단한 모듈테스트에 적합합니다."
   ]
  },
  {
   "cell_type": "code",
   "execution_count": 8,
   "metadata": {},
   "outputs": [],
   "source": [
    "data_path = 'QA_testset.csv'\n",
    "test_df = pd.read_csv(data_path)"
   ]
  },
  {
   "cell_type": "code",
   "execution_count": 9,
   "metadata": {},
   "outputs": [
    {
     "data": {
      "text/plain": [
       "array(['역사', '경제경영', '사회', '정치', '과학', '문화스포츠', '인문학', '기타'], dtype=object)"
      ]
     },
     "execution_count": 9,
     "metadata": {},
     "output_type": "execute_result"
    }
   ],
   "source": [
    "test_df['카테고리'].unique()"
   ]
  },
  {
   "cell_type": "code",
   "execution_count": 12,
   "metadata": {},
   "outputs": [
    {
     "data": {
      "text/html": [
       "<div>\n",
       "<style scoped>\n",
       "    .dataframe tbody tr th:only-of-type {\n",
       "        vertical-align: middle;\n",
       "    }\n",
       "\n",
       "    .dataframe tbody tr th {\n",
       "        vertical-align: top;\n",
       "    }\n",
       "\n",
       "    .dataframe thead th {\n",
       "        text-align: right;\n",
       "    }\n",
       "</style>\n",
       "<table border=\"1\" class=\"dataframe\">\n",
       "  <thead>\n",
       "    <tr style=\"text-align: right;\">\n",
       "      <th></th>\n",
       "      <th>카테고리</th>\n",
       "      <th>question</th>\n",
       "      <th>answer</th>\n",
       "    </tr>\n",
       "  </thead>\n",
       "  <tbody>\n",
       "    <tr>\n",
       "      <th>0</th>\n",
       "      <td>역사</td>\n",
       "      <td>고구려를 건국한 왕은?</td>\n",
       "      <td>주몽</td>\n",
       "    </tr>\n",
       "    <tr>\n",
       "      <th>1</th>\n",
       "      <td>역사</td>\n",
       "      <td>과거제를 처음 도입한 시대는?</td>\n",
       "      <td>고려시대</td>\n",
       "    </tr>\n",
       "    <tr>\n",
       "      <th>2</th>\n",
       "      <td>역사</td>\n",
       "      <td>훈민정음을 창제한 왕은?</td>\n",
       "      <td>세종대왕</td>\n",
       "    </tr>\n",
       "    <tr>\n",
       "      <th>3</th>\n",
       "      <td>역사</td>\n",
       "      <td>동학농민운동을 이끈 사람은?</td>\n",
       "      <td>전봉준</td>\n",
       "    </tr>\n",
       "    <tr>\n",
       "      <th>4</th>\n",
       "      <td>역사</td>\n",
       "      <td>문예 부흥이라는 중세 유럽에 일어난 운동은?</td>\n",
       "      <td>르네상스</td>\n",
       "    </tr>\n",
       "  </tbody>\n",
       "</table>\n",
       "</div>"
      ],
      "text/plain": [
       "  카테고리                  question answer\n",
       "0   역사              고구려를 건국한 왕은?     주몽\n",
       "1   역사          과거제를 처음 도입한 시대는?   고려시대\n",
       "2   역사             훈민정음을 창제한 왕은?  세종대왕 \n",
       "3   역사           동학농민운동을 이끈 사람은?    전봉준\n",
       "4   역사  문예 부흥이라는 중세 유럽에 일어난 운동은?   르네상스"
      ]
     },
     "execution_count": 12,
     "metadata": {},
     "output_type": "execute_result"
    }
   ],
   "source": [
    "test_df.head()"
   ]
  },
  {
   "cell_type": "markdown",
   "metadata": {},
   "source": [
    "## 모듈 종류 Setting"
   ]
  },
  {
   "cell_type": "code",
   "execution_count": 10,
   "metadata": {},
   "outputs": [],
   "source": [
    "dataset_names = {\n",
    "    'korquad1':'korquad1_model',\n",
    "    'korquad2':'korquad2_model',\n",
    "    'aihub':'aihub_model',\n",
    "    'aihub':'aihub_korquad_model',\n",
    "}\n",
    "\n",
    "model_names={\n",
    "    'bert' : 'bert',\n",
    "    'hanbert':'hanbert',\n",
    "    'kobert':'kobert'\n",
    "}"
   ]
  },
  {
   "cell_type": "code",
   "execution_count": 14,
   "metadata": {},
   "outputs": [],
   "source": [
    "def find_answer(question, qna_model, num_contents, wiki_converter, blog_converter):\n",
    "    wiki_contents = get_wiki_data(question, num_contents)\n",
    "    blog_contents = get_blog_data(question, num_contents)\n",
    "    paragraphs = []\n",
    "    for wiki_content in wiki_contents:\n",
    "        temp_paragraphs = wiki_converter.convert_html(wiki_content)\n",
    "        paragraphs.extend(temp_paragraphs)\n",
    "    for blog_content in blog_contents:\n",
    "        temp_paragraphs = blog_converter.convert_html(blog_content)\n",
    "        paragraphs.extend(temp_paragraphs)\n",
    "    \n",
    "    result = ''\n",
    "    if len(paragraphs) > 0:\n",
    "        result = qna_model.get_answers(question, paragraphs)\n",
    "        result = result['text-01']\n",
    "    return result"
   ]
  },
  {
   "cell_type": "markdown",
   "metadata": {},
   "source": [
    "## 1. 모델 테스트"
   ]
  },
  {
   "cell_type": "code",
   "execution_count": null,
   "metadata": {},
   "outputs": [],
   "source": [
    "## Converter INIT\n",
    "wiki_converter = Korquad2_Converter(max_paragraph_length=1)\n",
    "blog_converter = Blog_Converter(max_paragraph_length=1)"
   ]
  },
  {
   "cell_type": "code",
   "execution_count": null,
   "metadata": {},
   "outputs": [],
   "source": [
    "result_path = ''"
   ]
  },
  {
   "cell_type": "code",
   "execution_count": null,
   "metadata": {},
   "outputs": [],
   "source": [
    "for dataset_name, dataset_path in dataset_names.items():\n",
    "    for model_name, model_path in model_names.items():\n",
    "        ## Set model_path\n",
    "        temp_path = os.path.join(dataset_path, model_path)\n",
    "        if dataset_name == 'korquad2':\n",
    "            temp_path = os.path.join(dataset_path, model_path, 'step3', '4')\n",
    "        \n",
    "        ## Load QNA model\n",
    "        qna_model = QuestionAnswerResponsor(temp_path)\n",
    "        test_df['contents_1'] = test_df.apply(lambda row: find_answer(row['question'], qna_model, 1, wiki_converter, blog_converter), axis=1)\n",
    "        test_df['contents_5'] = test_df.apply(lambda row: find_answer(row['question'], qna_model, 1, wiki_converter, blog_converter), axis=5)\n",
    "        \n",
    "        csv_path = ''\n",
    "        test_df.to_csv('')"
   ]
  },
  {
   "cell_type": "code",
   "execution_count": null,
   "metadata": {},
   "outputs": [],
   "source": []
  },
  {
   "cell_type": "code",
   "execution_count": null,
   "metadata": {},
   "outputs": [],
   "source": []
  },
  {
   "cell_type": "code",
   "execution_count": null,
   "metadata": {},
   "outputs": [],
   "source": []
  },
  {
   "cell_type": "code",
   "execution_count": null,
   "metadata": {},
   "outputs": [],
   "source": []
  },
  {
   "cell_type": "code",
   "execution_count": null,
   "metadata": {},
   "outputs": [],
   "source": []
  },
  {
   "cell_type": "code",
   "execution_count": null,
   "metadata": {},
   "outputs": [],
   "source": [
    "## Set model_path\n",
    "model_path = 'bert_multi/'\n",
    "## 가져올 URL 갯수\n",
    "num_contents = 5\n",
    "## Load QNA model\n",
    "qna_model = QuestionAnswerResponsor(model_path)\n",
    "## Load wiki converter\n",
    "wiki_converter = Korquad2_Converter(max_paragraph_length=1)\n",
    "blog_converter = Blog_Converter(max_paragraph_length=1)"
   ]
  },
  {
   "cell_type": "code",
   "execution_count": null,
   "metadata": {},
   "outputs": [],
   "source": [
    "def find_answer(question, qna_model, num_contents):\n",
    "    wiki_contents = get_wiki_data(question, num_contents)\n",
    "    blog_contents = get_blog_data(question, num_contents)\n",
    "    paragraphs = []\n",
    "    for wiki_content in wiki_contents:\n",
    "        temp_paragraphs = wiki_converter.convert_html(wiki_content)\n",
    "        paragraphs.extend(temp_paragraphs)\n",
    "    for blog_content in blog_contents:\n",
    "        temp_paragraphs = blog_converter.convert_html(blog_content)\n",
    "        paragraphs.extend(temp_paragraphs)\n",
    "    \n",
    "    result = ''\n",
    "    if len(paragraphs) > 0:\n",
    "        result = qna_model.get_answers(question, paragraphs)\n",
    "        result = result['text-01']\n",
    "    return result"
   ]
  },
  {
   "cell_type": "code",
   "execution_count": null,
   "metadata": {},
   "outputs": [],
   "source": []
  },
  {
   "cell_type": "code",
   "execution_count": null,
   "metadata": {},
   "outputs": [],
   "source": []
  }
 ],
 "metadata": {
  "kernelspec": {
   "display_name": "Python 3",
   "language": "python",
   "name": "python3"
  },
  "language_info": {
   "codemirror_mode": {
    "name": "ipython",
    "version": 3
   },
   "file_extension": ".py",
   "mimetype": "text/x-python",
   "name": "python",
   "nbconvert_exporter": "python",
   "pygments_lexer": "ipython3",
   "version": "3.6.10"
  }
 },
 "nbformat": 4,
 "nbformat_minor": 4
}
