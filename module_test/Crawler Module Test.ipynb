{
 "cells": [
  {
   "cell_type": "markdown",
   "metadata": {},
   "source": [
    "# 스크래핑 모듈 테스트\n",
    "스크래핑을 통해 질문에 대한 정답이 어느정도 있는지 확인하여 모듈의 성능을 테스트합니다."
   ]
  },
  {
   "cell_type": "code",
   "execution_count": 1,
   "metadata": {},
   "outputs": [],
   "source": [
    "import sys\n",
    "## Root 파일(.py)을 Import 하기\n",
    "sys.path.append(\"../\")"
   ]
  },
  {
   "cell_type": "code",
   "execution_count": 2,
   "metadata": {},
   "outputs": [],
   "source": [
    "from scrap import get_wiki_data, get_blog_data\n",
    "import pandas as pd"
   ]
  },
  {
   "cell_type": "code",
   "execution_count": 15,
   "metadata": {},
   "outputs": [],
   "source": [
    "#한글 폰트 사용\n",
    "from matplotlib import font_manager,rc\n",
    "import matplotlib\n",
    "import matplotlib.pyplot as plt\n",
    "#폰트 경로\n",
    "font_path = \"C:/Windows/Fonts/H2GTRM.TTF\"\n",
    "#폰트 이름 얻어오기\n",
    "font_name = font_manager.FontProperties(fname=font_path).get_name()\n",
    "#font 설정\n",
    "matplotlib.rc('font',family=font_name)"
   ]
  },
  {
   "cell_type": "markdown",
   "metadata": {},
   "source": [
    "## 1. 테스트 QA 데이터\n",
    "QA_testset은 8가지 카테고리를 갖고 있는 총 100개 데이터셋입니다. 질문과 짧은 답변으로만 이루어져 있으므로 스크래핑된 HTML에 답변이 있는지에 대한 간단한 모듈테스트에 적합합니다."
   ]
  },
  {
   "cell_type": "code",
   "execution_count": 3,
   "metadata": {},
   "outputs": [],
   "source": [
    "data_path = 'QA_testset.csv'\n",
    "test_df = pd.read_csv(data_path)"
   ]
  },
  {
   "cell_type": "code",
   "execution_count": 4,
   "metadata": {},
   "outputs": [
    {
     "data": {
      "text/html": [
       "<div>\n",
       "<style scoped>\n",
       "    .dataframe tbody tr th:only-of-type {\n",
       "        vertical-align: middle;\n",
       "    }\n",
       "\n",
       "    .dataframe tbody tr th {\n",
       "        vertical-align: top;\n",
       "    }\n",
       "\n",
       "    .dataframe thead th {\n",
       "        text-align: right;\n",
       "    }\n",
       "</style>\n",
       "<table border=\"1\" class=\"dataframe\">\n",
       "  <thead>\n",
       "    <tr style=\"text-align: right;\">\n",
       "      <th></th>\n",
       "      <th>카테고리</th>\n",
       "      <th>question</th>\n",
       "      <th>answer</th>\n",
       "    </tr>\n",
       "  </thead>\n",
       "  <tbody>\n",
       "    <tr>\n",
       "      <th>0</th>\n",
       "      <td>역사</td>\n",
       "      <td>고구려를 건국한 왕은?</td>\n",
       "      <td>주몽</td>\n",
       "    </tr>\n",
       "    <tr>\n",
       "      <th>1</th>\n",
       "      <td>역사</td>\n",
       "      <td>과거제를 처음 도입한 시대는?</td>\n",
       "      <td>고려시대</td>\n",
       "    </tr>\n",
       "    <tr>\n",
       "      <th>2</th>\n",
       "      <td>역사</td>\n",
       "      <td>훈민정음을 창제한 왕은?</td>\n",
       "      <td>세종대왕</td>\n",
       "    </tr>\n",
       "    <tr>\n",
       "      <th>3</th>\n",
       "      <td>역사</td>\n",
       "      <td>동학농민운동을 이끈 사람은?</td>\n",
       "      <td>전봉준</td>\n",
       "    </tr>\n",
       "    <tr>\n",
       "      <th>4</th>\n",
       "      <td>역사</td>\n",
       "      <td>문예 부흥이라는 중세 유럽에 일어난 운동은?</td>\n",
       "      <td>르네상스</td>\n",
       "    </tr>\n",
       "  </tbody>\n",
       "</table>\n",
       "</div>"
      ],
      "text/plain": [
       "  카테고리                  question answer\n",
       "0   역사              고구려를 건국한 왕은?     주몽\n",
       "1   역사          과거제를 처음 도입한 시대는?   고려시대\n",
       "2   역사             훈민정음을 창제한 왕은?  세종대왕 \n",
       "3   역사           동학농민운동을 이끈 사람은?    전봉준\n",
       "4   역사  문예 부흥이라는 중세 유럽에 일어난 운동은?   르네상스"
      ]
     },
     "execution_count": 4,
     "metadata": {},
     "output_type": "execute_result"
    }
   ],
   "source": [
    "test_df.head()"
   ]
  },
  {
   "cell_type": "code",
   "execution_count": 5,
   "metadata": {},
   "outputs": [
    {
     "data": {
      "text/plain": [
       "array(['역사', '경제경영', '사회', '정치', '과학', '문화스포츠', '인문학', '기타'], dtype=object)"
      ]
     },
     "execution_count": 5,
     "metadata": {},
     "output_type": "execute_result"
    }
   ],
   "source": [
    "test_df['카테고리'].unique()"
   ]
  },
  {
   "cell_type": "markdown",
   "metadata": {},
   "source": [
    "## 2. WIKI 스크래핑 모듈 테스트\n",
    "[위키피디아](https://ko.wikipedia.org/w/index.php?search=) 에서 크롤링한 데이터가 질문에 맞는 대답을 어느정도 갖고 있는지 테스트 합니다."
   ]
  },
  {
   "cell_type": "code",
   "execution_count": 35,
   "metadata": {},
   "outputs": [],
   "source": [
    "def check_wiki_answer(question, answer, num):\n",
    "    for html in get_wiki_data(question, num):\n",
    "        if answer in html:\n",
    "            return 1\n",
    "    return 0"
   ]
  },
  {
   "cell_type": "code",
   "execution_count": 36,
   "metadata": {},
   "outputs": [
    {
     "name": "stdout",
     "output_type": "stream",
     "text": [
      "WIKI URL 1개의 coverage : 0.47\n",
      "Wall time: 2min 33s\n"
     ]
    }
   ],
   "source": [
    "%%time\n",
    "test_df['wiki_has_answer_1'] = test_df.apply(lambda row: check_wiki_answer(row['question'], row['answer'], 1), axis=1)\n",
    "print(\"WIKI URL 1개의 coverage : {}\".format(test_df['wiki_has_answer_1'].sum()/len(test_df)))"
   ]
  },
  {
   "cell_type": "code",
   "execution_count": 37,
   "metadata": {},
   "outputs": [
    {
     "name": "stdout",
     "output_type": "stream",
     "text": [
      "WIKI URL 5개의 coverage : 0.57\n",
      "Wall time: 4min 37s\n"
     ]
    }
   ],
   "source": [
    "%%time\n",
    "test_df['wiki_has_answer_5'] = test_df.apply(lambda row: check_wiki_answer(row['question'], row['answer'], 5), axis=1)\n",
    "print(\"WIKI URL 5개의 coverage : {}\".format(test_df['wiki_has_answer_5'].sum()/len(test_df)))"
   ]
  },
  {
   "cell_type": "code",
   "execution_count": 23,
   "metadata": {},
   "outputs": [],
   "source": [
    "total_count = test_df.groupby(['카테고리'])['카테고리'].count()\n",
    "wiki_has_answer_1_count = test_df.groupby(['카테고리'])['wiki_has_answer_1'].sum()\n",
    "wiki_has_answer_5_count = test_df.groupby(['카테고리'])['wiki_has_answer_5'].sum()\n",
    "wiki1 = (wiki_has_answer_1_count/total_count)\n",
    "wiki5 = (wiki_has_answer_5_count/total_count)"
   ]
  },
  {
   "cell_type": "code",
   "execution_count": 44,
   "metadata": {},
   "outputs": [
    {
     "data": {
      "text/plain": [
       "<matplotlib.axes._subplots.AxesSubplot at 0x17283b21dd8>"
      ]
     },
     "execution_count": 44,
     "metadata": {},
     "output_type": "execute_result"
    },
    {
     "data": {
      "image/png": "[encoded data removed]",
      "text/plain": [
       "<Figure size 432x288 with 1 Axes>"
      ]
     },
     "metadata": {
      "needs_background": "light"
     },
     "output_type": "display_data"
    }
   ],
   "source": [
    "pd.concat([wiki1, wiki5], keys=['wiki1', 'wiki5'], axis=1).plot.bar(title=\"위키피디아 크롤링 정답 포함률\")"
   ]
  },
  {
   "cell_type": "markdown",
   "metadata": {},
   "source": [
    "## 3. 블로그 스크래핑 모듈 테스트\n",
    "[네이버블로그](https://search.naver.com/search.naver) 에서 크롤링한 데이터가 질문에 맞는 대답을 어느정도 갖고 있는지 테스트 합니다."
   ]
  },
  {
   "cell_type": "code",
   "execution_count": 4,
   "metadata": {},
   "outputs": [],
   "source": [
    "def check_blog_answer(question, answer, num):\n",
    "    for html in get_blog_data(question, num):\n",
    "        if answer in html:\n",
    "            return 1\n",
    "    return 0"
   ]
  },
  {
   "cell_type": "code",
   "execution_count": 5,
   "metadata": {},
   "outputs": [
    {
     "name": "stdout",
     "output_type": "stream",
     "text": [
      "BLOG URL 1개의 coverage : 0.36\n",
      "Wall time: 38.4 s\n"
     ]
    }
   ],
   "source": [
    "%%time\n",
    "test_df['blog_has_answer_1'] = test_df.apply(lambda row: check_blog_answer(row['question'], row['answer'], 1), axis=1)\n",
    "print(\"BLOG URL 1개의 coverage : {}\".format(test_df['blog_has_answer_1'].sum()/len(test_df)))"
   ]
  },
  {
   "cell_type": "code",
   "execution_count": 6,
   "metadata": {},
   "outputs": [
    {
     "name": "stdout",
     "output_type": "stream",
     "text": [
      "BLOG URL 5개의 coverage : 0.73\n",
      "Wall time: 1min 30s\n"
     ]
    }
   ],
   "source": [
    "%%time\n",
    "test_df['blog_has_answer_5'] = test_df.apply(lambda row: check_blog_answer(row['question'], row['answer'], 5), axis=1)\n",
    "print(\"BLOG URL 5개의 coverage : {}\".format(test_df['blog_has_answer_5'].sum()/len(test_df)))"
   ]
  },
  {
   "cell_type": "code",
   "execution_count": 40,
   "metadata": {},
   "outputs": [],
   "source": [
    "total_count = test_df.groupby(['카테고리'])['카테고리'].count()\n",
    "blog_has_answer_1_count = test_df.groupby(['카테고리'])['blog_has_answer_1'].sum()\n",
    "blog_has_answer_5_count = test_df.groupby(['카테고리'])['blog_has_answer_5'].sum()\n",
    "blog1 = (blog_has_answer_1_count/total_count)\n",
    "blog5 = (blog_has_answer_5_count/total_count)"
   ]
  },
  {
   "cell_type": "code",
   "execution_count": 45,
   "metadata": {},
   "outputs": [
    {
     "data": {
      "text/plain": [
       "<matplotlib.axes._subplots.AxesSubplot at 0x17283bb80b8>"
      ]
     },
     "execution_count": 45,
     "metadata": {},
     "output_type": "execute_result"
    },
    {
     "data": {
      "image/png": "[encoded data removed]",
      "text/plain": [
       "<Figure size 432x288 with 1 Axes>"
      ]
     },
     "metadata": {
      "needs_background": "light"
     },
     "output_type": "display_data"
    }
   ],
   "source": [
    "pd.concat([blog1, blog5], keys=['blog1', 'blog5'], axis=1).plot.bar(title=\"블로그 크롤링 정답 포함률\")"
   ]
  },
  {
   "cell_type": "markdown",
   "metadata": {},
   "source": [
    "## 4. 블로그, WIKI 스크래핑 모듈 테스트\n",
    "위키피디아와 네이버블로그 에서 크롤링한 데이터가 질문에 맞는 대답을 어느정도 갖고 있는지 테스트 합니다."
   ]
  },
  {
   "cell_type": "code",
   "execution_count": 7,
   "metadata": {},
   "outputs": [
    {
     "name": "stdout",
     "output_type": "stream",
     "text": [
      "WIKI_BLOG URL 1개의 coverage : 0.62\n"
     ]
    }
   ],
   "source": [
    "test_df['wiki_blog_has_answer_1'] = test_df.apply(lambda row: int(row['wiki_has_answer_1']+row['blog_has_answer_1']>0), axis=1)\n",
    "print(\"WIKI_BLOG URL 1개의 coverage : {}\".format(test_df['wiki_blog_has_answer_1'].sum()/len(test_df)))"
   ]
  },
  {
   "cell_type": "code",
   "execution_count": 8,
   "metadata": {},
   "outputs": [
    {
     "name": "stdout",
     "output_type": "stream",
     "text": [
      "WIKI_BLOG URL 5개의 coverage : 0.83\n"
     ]
    }
   ],
   "source": [
    "test_df['wiki_blog_has_answer_5'] = test_df.apply(lambda row: int(row['wiki_has_answer_5']+row['blog_has_answer_5']>0), axis=1)\n",
    "print(\"WIKI_BLOG URL 5개의 coverage : {}\".format(test_df['wiki_blog_has_answer_5'].sum()/len(test_df)))"
   ]
  },
  {
   "cell_type": "code",
   "execution_count": 42,
   "metadata": {},
   "outputs": [],
   "source": [
    "total_count = test_df.groupby(['카테고리'])['카테고리'].count()\n",
    "wiki_blog_has_answer_1_count = test_df.groupby(['카테고리'])['wiki_blog_has_answer_1'].sum()\n",
    "wiki_blog_has_answer_5_count = test_df.groupby(['카테고리'])['wiki_blog_has_answer_5'].sum()\n",
    "wiki_blog1 = (wiki_blog_has_answer_1_count/total_count)\n",
    "wiki_blog5 = (wiki_blog_has_answer_5_count/total_count)"
   ]
  },
  {
   "cell_type": "code",
   "execution_count": 46,
   "metadata": {},
   "outputs": [
    {
     "data": {
      "text/plain": [
       "<matplotlib.axes._subplots.AxesSubplot at 0x17283c46978>"
      ]
     },
     "execution_count": 46,
     "metadata": {},
     "output_type": "execute_result"
    },
    {
     "data": {
      "image/png": "[encoded data removed]",
      "text/plain": [
       "<Figure size 432x288 with 1 Axes>"
      ]
     },
     "metadata": {
      "needs_background": "light"
     },
     "output_type": "display_data"
    }
   ],
   "source": [
    "pd.concat([wiki_blog1, wiki_blog5], keys=['wiki_blog1', 'wiki_blog5'], axis=1).plot.bar(title=\"블로그, 위키피디아 크롤링 정답 포함률\")"
   ]
  },
  {
   "cell_type": "code",
   "execution_count": null,
   "metadata": {},
   "outputs": [],
   "source": []
  },
  {
   "cell_type": "code",
   "execution_count": 47,
   "metadata": {},
   "outputs": [
    {
     "data": {
      "text/html": [
       "<div>\n",
       "<style scoped>\n",
       "    .dataframe tbody tr th:only-of-type {\n",
       "        vertical-align: middle;\n",
       "    }\n",
       "\n",
       "    .dataframe tbody tr th {\n",
       "        vertical-align: top;\n",
       "    }\n",
       "\n",
       "    .dataframe thead th {\n",
       "        text-align: right;\n",
       "    }\n",
       "</style>\n",
       "<table border=\"1\" class=\"dataframe\">\n",
       "  <thead>\n",
       "    <tr style=\"text-align: right;\">\n",
       "      <th></th>\n",
       "      <th>Unnamed: 0</th>\n",
       "      <th>카테고리</th>\n",
       "      <th>question</th>\n",
       "      <th>answer</th>\n",
       "      <th>wiki_has_answer_1</th>\n",
       "      <th>wiki_has_answer_5</th>\n",
       "      <th>blog_has_answer_1</th>\n",
       "      <th>blog_has_answer_5</th>\n",
       "      <th>wiki_blog_has_answer_1</th>\n",
       "      <th>wiki_blog_has_answer_5</th>\n",
       "    </tr>\n",
       "  </thead>\n",
       "  <tbody>\n",
       "    <tr>\n",
       "      <th>0</th>\n",
       "      <td>0</td>\n",
       "      <td>역사</td>\n",
       "      <td>고구려를 건국한 왕은?</td>\n",
       "      <td>주몽</td>\n",
       "      <td>1</td>\n",
       "      <td>1</td>\n",
       "      <td>1</td>\n",
       "      <td>1</td>\n",
       "      <td>1</td>\n",
       "      <td>1</td>\n",
       "    </tr>\n",
       "    <tr>\n",
       "      <th>1</th>\n",
       "      <td>1</td>\n",
       "      <td>역사</td>\n",
       "      <td>과거제를 처음 도입한 시대는?</td>\n",
       "      <td>고려시대</td>\n",
       "      <td>0</td>\n",
       "      <td>1</td>\n",
       "      <td>0</td>\n",
       "      <td>0</td>\n",
       "      <td>0</td>\n",
       "      <td>1</td>\n",
       "    </tr>\n",
       "    <tr>\n",
       "      <th>2</th>\n",
       "      <td>2</td>\n",
       "      <td>역사</td>\n",
       "      <td>훈민정음을 창제한 왕은?</td>\n",
       "      <td>세종대왕</td>\n",
       "      <td>0</td>\n",
       "      <td>1</td>\n",
       "      <td>1</td>\n",
       "      <td>1</td>\n",
       "      <td>1</td>\n",
       "      <td>1</td>\n",
       "    </tr>\n",
       "    <tr>\n",
       "      <th>3</th>\n",
       "      <td>3</td>\n",
       "      <td>역사</td>\n",
       "      <td>동학농민운동을 이끈 사람은?</td>\n",
       "      <td>전봉준</td>\n",
       "      <td>1</td>\n",
       "      <td>1</td>\n",
       "      <td>1</td>\n",
       "      <td>1</td>\n",
       "      <td>1</td>\n",
       "      <td>1</td>\n",
       "    </tr>\n",
       "    <tr>\n",
       "      <th>4</th>\n",
       "      <td>4</td>\n",
       "      <td>역사</td>\n",
       "      <td>문예 부흥이라는 중세 유럽에 일어난 운동은?</td>\n",
       "      <td>르네상스</td>\n",
       "      <td>1</td>\n",
       "      <td>1</td>\n",
       "      <td>1</td>\n",
       "      <td>1</td>\n",
       "      <td>1</td>\n",
       "      <td>1</td>\n",
       "    </tr>\n",
       "  </tbody>\n",
       "</table>\n",
       "</div>"
      ],
      "text/plain": [
       "   Unnamed: 0 카테고리                  question answer  wiki_has_answer_1  \\\n",
       "0           0   역사              고구려를 건국한 왕은?     주몽                  1   \n",
       "1           1   역사          과거제를 처음 도입한 시대는?   고려시대                  0   \n",
       "2           2   역사             훈민정음을 창제한 왕은?  세종대왕                   0   \n",
       "3           3   역사           동학농민운동을 이끈 사람은?    전봉준                  1   \n",
       "4           4   역사  문예 부흥이라는 중세 유럽에 일어난 운동은?   르네상스                  1   \n",
       "\n",
       "   wiki_has_answer_5  blog_has_answer_1  blog_has_answer_5  \\\n",
       "0                  1                  1                  1   \n",
       "1                  1                  0                  0   \n",
       "2                  1                  1                  1   \n",
       "3                  1                  1                  1   \n",
       "4                  1                  1                  1   \n",
       "\n",
       "   wiki_blog_has_answer_1  wiki_blog_has_answer_5  \n",
       "0                       1                       1  \n",
       "1                       0                       1  \n",
       "2                       1                       1  \n",
       "3                       1                       1  \n",
       "4                       1                       1  "
      ]
     },
     "execution_count": 47,
     "metadata": {},
     "output_type": "execute_result"
    }
   ],
   "source": [
    "test_df.head()"
   ]
  },
  {
   "cell_type": "code",
   "execution_count": 48,
   "metadata": {},
   "outputs": [],
   "source": [
    "test_df.to_csv(\"QA_crawler_test_result.csv\")"
   ]
  }
 ],
 "metadata": {
  "kernelspec": {
   "display_name": "Pytorch Python 3.6 (conda env)",
   "language": "python",
   "name": "pt-py36"
  },
  "language_info": {
   "codemirror_mode": {
    "name": "ipython",
    "version": 3
   },
   "file_extension": ".py",
   "mimetype": "text/x-python",
   "name": "python",
   "nbconvert_exporter": "python",
   "pygments_lexer": "ipython3",
   "version": "3.6.10"
  }
 },
 "nbformat": 4,
 "nbformat_minor": 4
}
