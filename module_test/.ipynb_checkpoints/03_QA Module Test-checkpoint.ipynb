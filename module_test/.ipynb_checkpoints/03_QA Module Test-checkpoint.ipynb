{
 "cells": [
  {
   "cell_type": "markdown",
   "metadata": {},
   "source": [
    "# Q&A 모듈 테스트\n",
    "전체 모듈에 대한 성능을 테스트 합니다."
   ]
  },
  {
   "cell_type": "code",
   "execution_count": 1,
   "metadata": {},
   "outputs": [],
   "source": [
    "import sys\n",
    "## Root 파일(.py)을 Import 하기\n",
    "sys.path.append(\"../\")"
   ]
  },
  {
   "cell_type": "code",
   "execution_count": 2,
   "metadata": {},
   "outputs": [],
   "source": [
    "from qna_adaptor import QuestionAnswerResponsor\n",
    "from scrap import get_wiki_data, get_blog_data\n",
    "from wiki_convert import Korquad2_Converter\n",
    "from blog_convert import Blog_Converter\n",
    "import pandas as pd"
   ]
  },
  {
   "cell_type": "code",
   "execution_count": 4,
   "metadata": {},
   "outputs": [],
   "source": [
    "#한글 폰트 사용\n",
    "from matplotlib import font_manager,rc\n",
    "import matplotlib\n",
    "import matplotlib.pyplot as plt\n",
    "#폰트 경로\n",
    "#font_path = \"C:/Windows/Fonts/H2GTRM.TTF\"\n",
    "#폰트 이름 얻어오기\n",
    "#font_name = font_manager.FontProperties(fname=font_path).get_name()\n",
    "#font 설정\n",
    "#matplotlib.rc('font',family=font_name)"
   ]
  },
  {
   "cell_type": "markdown",
   "metadata": {},
   "source": [
    "## 모듈 테스트 QA 데이터\n",
    "QA_testset은 8가지 카테고리를 갖고 있는 총 100개 데이터셋입니다. 질문과 짧은 답변으로만 이루어져 있으므로 Q&A 시스템을 통해 나온 문장에 답변이 있는지에 대한 간단한 모듈테스트에 적합합니다."
   ]
  },
  {
   "cell_type": "code",
   "execution_count": 5,
   "metadata": {},
   "outputs": [],
   "source": [
    "data_path = 'QA_testset.csv'\n",
    "test_df = pd.read_csv(data_path)"
   ]
  },
  {
   "cell_type": "code",
   "execution_count": 6,
   "metadata": {},
   "outputs": [
    {
     "data": {
      "text/plain": [
       "array(['역사', '경제경영', '사회', '정치', '과학', '문화스포츠', '인문학', '기타'], dtype=object)"
      ]
     },
     "execution_count": 6,
     "metadata": {},
     "output_type": "execute_result"
    }
   ],
   "source": [
    "test_df['카테고리'].unique()"
   ]
  },
  {
   "cell_type": "code",
   "execution_count": 7,
   "metadata": {},
   "outputs": [
    {
     "data": {
      "text/html": [
       "<div>\n",
       "<style scoped>\n",
       "    .dataframe tbody tr th:only-of-type {\n",
       "        vertical-align: middle;\n",
       "    }\n",
       "\n",
       "    .dataframe tbody tr th {\n",
       "        vertical-align: top;\n",
       "    }\n",
       "\n",
       "    .dataframe thead th {\n",
       "        text-align: right;\n",
       "    }\n",
       "</style>\n",
       "<table border=\"1\" class=\"dataframe\">\n",
       "  <thead>\n",
       "    <tr style=\"text-align: right;\">\n",
       "      <th></th>\n",
       "      <th>카테고리</th>\n",
       "      <th>question</th>\n",
       "      <th>answer</th>\n",
       "    </tr>\n",
       "  </thead>\n",
       "  <tbody>\n",
       "    <tr>\n",
       "      <th>0</th>\n",
       "      <td>역사</td>\n",
       "      <td>고구려를 건국한 왕은?</td>\n",
       "      <td>주몽</td>\n",
       "    </tr>\n",
       "    <tr>\n",
       "      <th>1</th>\n",
       "      <td>역사</td>\n",
       "      <td>과거제를 처음 도입한 시대는?</td>\n",
       "      <td>고려시대</td>\n",
       "    </tr>\n",
       "    <tr>\n",
       "      <th>2</th>\n",
       "      <td>역사</td>\n",
       "      <td>훈민정음을 창제한 왕은?</td>\n",
       "      <td>세종대왕</td>\n",
       "    </tr>\n",
       "    <tr>\n",
       "      <th>3</th>\n",
       "      <td>역사</td>\n",
       "      <td>동학농민운동을 이끈 사람은?</td>\n",
       "      <td>전봉준</td>\n",
       "    </tr>\n",
       "    <tr>\n",
       "      <th>4</th>\n",
       "      <td>역사</td>\n",
       "      <td>문예 부흥이라는 중세 유럽에 일어난 운동은?</td>\n",
       "      <td>르네상스</td>\n",
       "    </tr>\n",
       "  </tbody>\n",
       "</table>\n",
       "</div>"
      ],
      "text/plain": [
       "  카테고리                  question answer\n",
       "0   역사              고구려를 건국한 왕은?     주몽\n",
       "1   역사          과거제를 처음 도입한 시대는?   고려시대\n",
       "2   역사             훈민정음을 창제한 왕은?  세종대왕 \n",
       "3   역사           동학농민운동을 이끈 사람은?    전봉준\n",
       "4   역사  문예 부흥이라는 중세 유럽에 일어난 운동은?   르네상스"
      ]
     },
     "execution_count": 7,
     "metadata": {},
     "output_type": "execute_result"
    }
   ],
   "source": [
    "test_df.head()"
   ]
  },
  {
   "cell_type": "markdown",
   "metadata": {},
   "source": [
    "## 모듈 종류 Setting"
   ]
  },
  {
   "cell_type": "code",
   "execution_count": 8,
   "metadata": {},
   "outputs": [],
   "source": [
    "dataset_names = {\n",
    "    'korquad1':'korquad1_model',\n",
    "    'korquad2':'korquad2_model',\n",
    "    'aihub':'aihub_model',\n",
    "    'aihub':'aihub_korquad_model',\n",
    "}\n",
    "\n",
    "model_names={\n",
    "    'bert' : 'bert',\n",
    "    'hanbert':'hanbert',\n",
    "    'kobert':'kobert'\n",
    "}"
   ]
  },
  {
   "cell_type": "code",
   "execution_count": 18,
   "metadata": {},
   "outputs": [],
   "source": [
    "def find_answer(question, qna_model, num_contents, wiki_converter, blog_converter):\n",
    "    wiki_contents = get_wiki_data(question, num_contents)\n",
    "    blog_contents = get_blog_data(question, num_contents)\n",
    "    paragraphs = []\n",
    "    for wiki_content in wiki_contents:\n",
    "        temp_paragraphs = wiki_converter.convert_html(wiki_content)\n",
    "        paragraphs.extend(temp_paragraphs)\n",
    "    for blog_content in blog_contents:\n",
    "        temp_paragraphs = blog_converter.convert_html(blog_content)\n",
    "        paragraphs.extend(temp_paragraphs)\n",
    "    \n",
    "    result = ''\n",
    "    if len(paragraphs) > 0:\n",
    "        result = qna_model.get_answers(question, paragraphs)\n",
    "    return result"
   ]
  },
  {
   "cell_type": "markdown",
   "metadata": {},
   "source": [
    "## 1. 모델 테스트"
   ]
  },
  {
   "cell_type": "code",
   "execution_count": 14,
   "metadata": {},
   "outputs": [],
   "source": [
    "## Converter INIT\n",
    "wiki_converter = Korquad2_Converter(max_paragraph_length=1)\n",
    "blog_converter = Blog_Converter(max_paragraph_length=1)"
   ]
  },
  {
   "cell_type": "code",
   "execution_count": 15,
   "metadata": {},
   "outputs": [],
   "source": [
    "result_path = 'system_performance'\n",
    "if not os.path.isdir(result_path):\n",
    "    os.mkdir(result_path)"
   ]
  },
  {
   "cell_type": "code",
   "execution_count": 19,
   "metadata": {},
   "outputs": [
    {
     "name": "stderr",
     "output_type": "stream",
     "text": [
      "06/03/2020 20:01:37 - INFO - transformers.configuration_utils -   loading configuration file ../korquad1_model/bert/config.json\n",
      "06/03/2020 20:01:37 - INFO - transformers.configuration_utils -   Model config BertConfig {\n",
      "  \"architectures\": [\n",
      "    \"BertForQuestionAnswering\"\n",
      "  ],\n",
      "  \"attention_probs_dropout_prob\": 0.1,\n",
      "  \"directionality\": \"bidi\",\n",
      "  \"hidden_act\": \"gelu\",\n",
      "  \"hidden_dropout_prob\": 0.1,\n",
      "  \"hidden_size\": 768,\n",
      "  \"initializer_range\": 0.02,\n",
      "  \"intermediate_size\": 3072,\n",
      "  \"layer_norm_eps\": 1e-12,\n",
      "  \"max_position_embeddings\": 512,\n",
      "  \"model_type\": \"bert\",\n",
      "  \"num_attention_heads\": 12,\n",
      "  \"num_hidden_layers\": 12,\n",
      "  \"pad_token_id\": 0,\n",
      "  \"pooler_fc_size\": 768,\n",
      "  \"pooler_num_attention_heads\": 12,\n",
      "  \"pooler_num_fc_layers\": 3,\n",
      "  \"pooler_size_per_head\": 128,\n",
      "  \"pooler_type\": \"first_token_transform\",\n",
      "  \"type_vocab_size\": 2,\n",
      "  \"vocab_size\": 119547\n",
      "}\n",
      "\n",
      "06/03/2020 20:01:37 - INFO - transformers.tokenization_utils -   Model name '../korquad1_model/bert' not found in model shortcut name list (bert-base-uncased, bert-large-uncased, bert-base-cased, bert-large-cased, bert-base-multilingual-uncased, bert-base-multilingual-cased, bert-base-chinese, bert-base-german-cased, bert-large-uncased-whole-word-masking, bert-large-cased-whole-word-masking, bert-large-uncased-whole-word-masking-finetuned-squad, bert-large-cased-whole-word-masking-finetuned-squad, bert-base-cased-finetuned-mrpc, bert-base-german-dbmdz-cased, bert-base-german-dbmdz-uncased, bert-base-finnish-cased-v1, bert-base-finnish-uncased-v1, bert-base-dutch-cased). Assuming '../korquad1_model/bert' is a path, a model identifier, or url to a directory containing tokenizer files.\n",
      "06/03/2020 20:01:37 - INFO - transformers.tokenization_utils -   Didn't find file ../korquad1_model/bert/added_tokens.json. We won't load it.\n",
      "06/03/2020 20:01:37 - INFO - transformers.tokenization_utils -   loading file ../korquad1_model/bert/vocab.txt\n",
      "06/03/2020 20:01:37 - INFO - transformers.tokenization_utils -   loading file None\n",
      "06/03/2020 20:01:37 - INFO - transformers.tokenization_utils -   loading file ../korquad1_model/bert/special_tokens_map.json\n",
      "06/03/2020 20:01:37 - INFO - transformers.tokenization_utils -   loading file ../korquad1_model/bert/tokenizer_config.json\n",
      "06/03/2020 20:01:37 - INFO - transformers.modeling_utils -   loading weights file ../korquad1_model/bert/pytorch_model.bin\n"
     ]
    },
    {
     "name": "stdout",
     "output_type": "stream",
     "text": [
      "korquad1 bert\n",
      "EXAMPLE 변환시간 :  0.008230209350585938\n"
     ]
    },
    {
     "name": "stderr",
     "output_type": "stream",
     "text": [
      "convert squad examples to features: 100%|██████████| 1/1 [00:00<00:00,  2.59it/s]\n",
      "add example index and unique id: 100%|██████████| 1/1 [00:00<00:00, 1913.46it/s]\n",
      "Evaluating:   8%|▊         | 2/24 [00:00<00:01, 13.30it/s]"
     ]
    },
    {
     "name": "stdout",
     "output_type": "stream",
     "text": [
      "CONVERT에 걸린시간 :  0.6063930988311768\n"
     ]
    },
    {
     "name": "stderr",
     "output_type": "stream",
     "text": [
      "Evaluating: 100%|██████████| 24/24 [00:01<00:00, 17.20it/s]\n",
      "06/03/2020 20:01:45 - INFO - korquad_metrics -   Writing predictions to: temp/predictions_.json\n",
      "06/03/2020 20:01:45 - INFO - korquad_metrics -   Writing nbest to: temp/nbest_predictions_.json\n"
     ]
    },
    {
     "name": "stdout",
     "output_type": "stream",
     "text": [
      "EXAMPLE 변환시간 :  0.0018839836120605469\n"
     ]
    },
    {
     "name": "stderr",
     "output_type": "stream",
     "text": [
      "convert squad examples to features: 100%|██████████| 1/1 [00:00<00:00, 10.49it/s]\n",
      "add example index and unique id: 100%|██████████| 1/1 [00:00<00:00, 6195.43it/s]\n",
      "Evaluating:  40%|████      | 2/5 [00:00<00:00, 15.32it/s]"
     ]
    },
    {
     "name": "stdout",
     "output_type": "stream",
     "text": [
      "CONVERT에 걸린시간 :  0.25527429580688477\n"
     ]
    },
    {
     "name": "stderr",
     "output_type": "stream",
     "text": [
      "Evaluating: 100%|██████████| 5/5 [00:00<00:00, 17.27it/s]\n",
      "06/03/2020 20:01:48 - INFO - korquad_metrics -   Writing predictions to: temp/predictions_.json\n",
      "06/03/2020 20:01:48 - INFO - korquad_metrics -   Writing nbest to: temp/nbest_predictions_.json\n"
     ]
    },
    {
     "name": "stdout",
     "output_type": "stream",
     "text": [
      "EXAMPLE 변환시간 :  0.002973794937133789\n"
     ]
    },
    {
     "name": "stderr",
     "output_type": "stream",
     "text": [
      "convert squad examples to features: 100%|██████████| 1/1 [00:00<00:00,  6.47it/s]\n",
      "add example index and unique id: 100%|██████████| 1/1 [00:00<00:00, 3898.05it/s]\n",
      "Evaluating:  29%|██▊       | 2/7 [00:00<00:00, 13.14it/s]"
     ]
    },
    {
     "name": "stdout",
     "output_type": "stream",
     "text": [
      "CONVERT에 걸린시간 :  0.37409305572509766\n"
     ]
    },
    {
     "name": "stderr",
     "output_type": "stream",
     "text": [
      "Evaluating: 100%|██████████| 7/7 [00:00<00:00, 15.92it/s]\n",
      "06/03/2020 20:01:51 - INFO - korquad_metrics -   Writing predictions to: temp/predictions_.json\n",
      "06/03/2020 20:01:51 - INFO - korquad_metrics -   Writing nbest to: temp/nbest_predictions_.json\n"
     ]
    },
    {
     "name": "stdout",
     "output_type": "stream",
     "text": [
      "EXAMPLE 변환시간 :  0.014077425003051758\n"
     ]
    },
    {
     "name": "stderr",
     "output_type": "stream",
     "text": [
      "convert squad examples to features: 100%|██████████| 1/1 [00:01<00:00,  1.13s/it]\n",
      "add example index and unique id: 100%|██████████| 1/1 [00:00<00:00, 2226.28it/s]\n",
      "Evaluating:   6%|▌         | 2/34 [00:00<00:02, 15.30it/s]"
     ]
    },
    {
     "name": "stdout",
     "output_type": "stream",
     "text": [
      "CONVERT에 걸린시간 :  1.3967766761779785\n"
     ]
    },
    {
     "name": "stderr",
     "output_type": "stream",
     "text": [
      "Evaluating: 100%|██████████| 34/34 [00:01<00:00, 17.07it/s]\n",
      "06/03/2020 20:01:57 - INFO - korquad_metrics -   Writing predictions to: temp/predictions_.json\n",
      "06/03/2020 20:01:57 - INFO - korquad_metrics -   Writing nbest to: temp/nbest_predictions_.json\n"
     ]
    },
    {
     "name": "stdout",
     "output_type": "stream",
     "text": [
      "EXAMPLE 변환시간 :  0.006086826324462891\n"
     ]
    },
    {
     "name": "stderr",
     "output_type": "stream",
     "text": [
      "convert squad examples to features: 100%|██████████| 1/1 [00:00<00:00,  2.73it/s]\n",
      "add example index and unique id: 100%|██████████| 1/1 [00:00<00:00, 3045.97it/s]\n",
      "Evaluating:  15%|█▌        | 2/13 [00:00<00:00, 15.73it/s]"
     ]
    },
    {
     "name": "stdout",
     "output_type": "stream",
     "text": [
      "CONVERT에 걸린시간 :  0.555300235748291\n"
     ]
    },
    {
     "name": "stderr",
     "output_type": "stream",
     "text": [
      "Evaluating: 100%|██████████| 13/13 [00:00<00:00, 17.63it/s]\n",
      "06/03/2020 20:02:01 - INFO - korquad_metrics -   Writing predictions to: temp/predictions_.json\n",
      "06/03/2020 20:02:01 - INFO - korquad_metrics -   Writing nbest to: temp/nbest_predictions_.json\n"
     ]
    },
    {
     "name": "stdout",
     "output_type": "stream",
     "text": [
      "EXAMPLE 변환시간 :  0.0018134117126464844\n"
     ]
    },
    {
     "name": "stderr",
     "output_type": "stream",
     "text": [
      "convert squad examples to features: 100%|██████████| 1/1 [00:00<00:00, 11.10it/s]\n",
      "add example index and unique id: 100%|██████████| 1/1 [00:00<00:00, 4076.10it/s]\n",
      "Evaluating:  50%|█████     | 2/4 [00:00<00:00, 15.35it/s]"
     ]
    },
    {
     "name": "stdout",
     "output_type": "stream",
     "text": [
      "CONVERT에 걸린시간 :  0.2538185119628906\n"
     ]
    },
    {
     "name": "stderr",
     "output_type": "stream",
     "text": [
      "Evaluating: 100%|██████████| 4/4 [00:00<00:00, 16.02it/s]\n",
      "06/03/2020 20:02:03 - INFO - korquad_metrics -   Writing predictions to: temp/predictions_.json\n",
      "06/03/2020 20:02:03 - INFO - korquad_metrics -   Writing nbest to: temp/nbest_predictions_.json\n"
     ]
    },
    {
     "name": "stdout",
     "output_type": "stream",
     "text": [
      "EXAMPLE 변환시간 :  0.013446331024169922\n"
     ]
    },
    {
     "name": "stderr",
     "output_type": "stream",
     "text": [
      "convert squad examples to features: 100%|██████████| 1/1 [00:01<00:00,  1.34s/it]\n",
      "add example index and unique id: 100%|██████████| 1/1 [00:00<00:00, 5526.09it/s]\n",
      "Evaluating:   6%|▌         | 2/34 [00:00<00:02, 15.61it/s]"
     ]
    },
    {
     "name": "stdout",
     "output_type": "stream",
     "text": [
      "CONVERT에 걸린시간 :  1.5725619792938232\n"
     ]
    },
    {
     "name": "stderr",
     "output_type": "stream",
     "text": [
      "Evaluating: 100%|██████████| 34/34 [00:01<00:00, 18.60it/s]\n",
      "06/03/2020 20:02:09 - INFO - korquad_metrics -   Writing predictions to: temp/predictions_.json\n",
      "06/03/2020 20:02:09 - INFO - korquad_metrics -   Writing nbest to: temp/nbest_predictions_.json\n"
     ]
    },
    {
     "name": "stdout",
     "output_type": "stream",
     "text": [
      "EXAMPLE 변환시간 :  0.014549493789672852\n"
     ]
    },
    {
     "name": "stderr",
     "output_type": "stream",
     "text": [
      "convert squad examples to features: 100%|██████████| 1/1 [00:01<00:00,  1.38s/it]\n",
      "add example index and unique id: 100%|██████████| 1/1 [00:00<00:00, 2972.58it/s]\n",
      "Evaluating:   5%|▌         | 2/37 [00:00<00:02, 15.69it/s]"
     ]
    },
    {
     "name": "stdout",
     "output_type": "stream",
     "text": [
      "CONVERT에 걸린시간 :  1.5790681838989258\n"
     ]
    },
    {
     "name": "stderr",
     "output_type": "stream",
     "text": [
      "Evaluating: 100%|██████████| 37/37 [00:02<00:00, 18.46it/s]\n",
      "06/03/2020 20:02:16 - INFO - korquad_metrics -   Writing predictions to: temp/predictions_.json\n",
      "06/03/2020 20:02:16 - INFO - korquad_metrics -   Writing nbest to: temp/nbest_predictions_.json\n"
     ]
    },
    {
     "name": "stdout",
     "output_type": "stream",
     "text": [
      "EXAMPLE 변환시간 :  0.0046977996826171875\n"
     ]
    },
    {
     "name": "stderr",
     "output_type": "stream",
     "text": [
      "convert squad examples to features: 100%|██████████| 1/1 [00:00<00:00,  3.63it/s]\n",
      "add example index and unique id: 100%|██████████| 1/1 [00:00<00:00, 7958.83it/s]\n",
      "Evaluating:  18%|█▊        | 2/11 [00:00<00:00, 15.70it/s]"
     ]
    },
    {
     "name": "stdout",
     "output_type": "stream",
     "text": [
      "CONVERT에 걸린시간 :  0.46251344680786133\n"
     ]
    },
    {
     "name": "stderr",
     "output_type": "stream",
     "text": [
      "Evaluating: 100%|██████████| 11/11 [00:00<00:00, 17.91it/s]\n",
      "06/03/2020 20:02:19 - INFO - korquad_metrics -   Writing predictions to: temp/predictions_.json\n",
      "06/03/2020 20:02:19 - INFO - korquad_metrics -   Writing nbest to: temp/nbest_predictions_.json\n"
     ]
    },
    {
     "name": "stdout",
     "output_type": "stream",
     "text": [
      "EXAMPLE 변환시간 :  0.004164934158325195\n"
     ]
    },
    {
     "name": "stderr",
     "output_type": "stream",
     "text": [
      "convert squad examples to features: 100%|██████████| 1/1 [00:00<00:00,  2.94it/s]\n",
      "add example index and unique id: 100%|██████████| 1/1 [00:00<00:00, 8208.03it/s]\n",
      "Evaluating:  18%|█▊        | 2/11 [00:00<00:00, 15.40it/s]"
     ]
    },
    {
     "name": "stdout",
     "output_type": "stream",
     "text": [
      "CONVERT에 걸린시간 :  0.5586850643157959\n"
     ]
    },
    {
     "name": "stderr",
     "output_type": "stream",
     "text": [
      "Evaluating: 100%|██████████| 11/11 [00:00<00:00, 17.27it/s]\n",
      "06/03/2020 20:02:23 - INFO - korquad_metrics -   Writing predictions to: temp/predictions_.json\n",
      "06/03/2020 20:02:23 - INFO - korquad_metrics -   Writing nbest to: temp/nbest_predictions_.json\n"
     ]
    },
    {
     "name": "stdout",
     "output_type": "stream",
     "text": [
      "EXAMPLE 변환시간 :  0.0062825679779052734\n"
     ]
    },
    {
     "name": "stderr",
     "output_type": "stream",
     "text": [
      "convert squad examples to features: 100%|██████████| 1/1 [00:00<00:00,  4.41it/s]\n",
      "add example index and unique id: 100%|██████████| 1/1 [00:00<00:00, 7269.16it/s]\n",
      "Evaluating:  12%|█▏        | 2/17 [00:00<00:00, 15.41it/s]"
     ]
    },
    {
     "name": "stdout",
     "output_type": "stream",
     "text": [
      "CONVERT에 걸린시간 :  0.465317964553833\n"
     ]
    },
    {
     "name": "stderr",
     "output_type": "stream",
     "text": [
      "Evaluating: 100%|██████████| 17/17 [00:00<00:00, 17.85it/s]\n",
      "06/03/2020 20:02:27 - INFO - korquad_metrics -   Writing predictions to: temp/predictions_.json\n",
      "06/03/2020 20:02:27 - INFO - korquad_metrics -   Writing nbest to: temp/nbest_predictions_.json\n"
     ]
    },
    {
     "name": "stdout",
     "output_type": "stream",
     "text": [
      "EXAMPLE 변환시간 :  0.0032052993774414062\n"
     ]
    },
    {
     "name": "stderr",
     "output_type": "stream",
     "text": [
      "convert squad examples to features: 100%|██████████| 1/1 [00:00<00:00,  2.53it/s]\n",
      "add example index and unique id: 100%|██████████| 1/1 [00:00<00:00, 5599.87it/s]\n",
      "Evaluating:  18%|█▊        | 2/11 [00:00<00:00, 15.40it/s]"
     ]
    },
    {
     "name": "stdout",
     "output_type": "stream",
     "text": [
      "CONVERT에 걸린시간 :  0.5650091171264648\n"
     ]
    },
    {
     "name": "stderr",
     "output_type": "stream",
     "text": [
      "Evaluating: 100%|██████████| 11/11 [00:00<00:00, 18.11it/s]\n",
      "06/03/2020 20:02:30 - INFO - korquad_metrics -   Writing predictions to: temp/predictions_.json\n",
      "06/03/2020 20:02:30 - INFO - korquad_metrics -   Writing nbest to: temp/nbest_predictions_.json\n"
     ]
    },
    {
     "name": "stdout",
     "output_type": "stream",
     "text": [
      "EXAMPLE 변환시간 :  0.022607803344726562\n"
     ]
    },
    {
     "name": "stderr",
     "output_type": "stream",
     "text": [
      "convert squad examples to features: 100%|██████████| 1/1 [00:03<00:00,  3.77s/it]\n",
      "add example index and unique id: 100%|██████████| 1/1 [00:00<00:00, 2688.66it/s]\n",
      "Evaluating:   3%|▎         | 2/61 [00:00<00:03, 14.86it/s]"
     ]
    },
    {
     "name": "stdout",
     "output_type": "stream",
     "text": [
      "CONVERT에 걸린시간 :  3.9941179752349854\n"
     ]
    },
    {
     "name": "stderr",
     "output_type": "stream",
     "text": [
      "Evaluating: 100%|██████████| 61/61 [00:03<00:00, 17.58it/s]\n",
      "06/03/2020 20:02:41 - INFO - korquad_metrics -   Writing predictions to: temp/predictions_.json\n",
      "06/03/2020 20:02:41 - INFO - korquad_metrics -   Writing nbest to: temp/nbest_predictions_.json\n"
     ]
    },
    {
     "name": "stdout",
     "output_type": "stream",
     "text": [
      "EXAMPLE 변환시간 :  0.0016169548034667969\n"
     ]
    },
    {
     "name": "stderr",
     "output_type": "stream",
     "text": [
      "convert squad examples to features: 100%|██████████| 1/1 [00:00<00:00, 17.82it/s]\n",
      "add example index and unique id: 100%|██████████| 1/1 [00:00<00:00, 2872.81it/s]\n",
      "Evaluating:  50%|█████     | 2/4 [00:00<00:00, 14.90it/s]"
     ]
    },
    {
     "name": "stdout",
     "output_type": "stream",
     "text": [
      "CONVERT에 걸린시간 :  0.2823982238769531\n"
     ]
    },
    {
     "name": "stderr",
     "output_type": "stream",
     "text": [
      "Evaluating: 100%|██████████| 4/4 [00:00<00:00, 18.42it/s]\n",
      "06/03/2020 20:02:44 - INFO - korquad_metrics -   Writing predictions to: temp/predictions_.json\n",
      "06/03/2020 20:02:44 - INFO - korquad_metrics -   Writing nbest to: temp/nbest_predictions_.json\n"
     ]
    },
    {
     "name": "stdout",
     "output_type": "stream",
     "text": [
      "EXAMPLE 변환시간 :  0.0014865398406982422\n"
     ]
    },
    {
     "name": "stderr",
     "output_type": "stream",
     "text": [
      "convert squad examples to features: 100%|██████████| 1/1 [00:00<00:00, 15.89it/s]\n",
      "add example index and unique id: 100%|██████████| 1/1 [00:00<00:00, 3591.01it/s]\n",
      "Evaluating:  29%|██▊       | 2/7 [00:00<00:00, 15.38it/s]"
     ]
    },
    {
     "name": "stdout",
     "output_type": "stream",
     "text": [
      "CONVERT에 걸린시간 :  0.25461792945861816\n"
     ]
    },
    {
     "name": "stderr",
     "output_type": "stream",
     "text": [
      "Evaluating: 100%|██████████| 7/7 [00:00<00:00, 16.67it/s]\n",
      "06/03/2020 20:02:47 - INFO - korquad_metrics -   Writing predictions to: temp/predictions_.json\n",
      "06/03/2020 20:02:47 - INFO - korquad_metrics -   Writing nbest to: temp/nbest_predictions_.json\n"
     ]
    },
    {
     "name": "stdout",
     "output_type": "stream",
     "text": [
      "EXAMPLE 변환시간 :  0.006007194519042969\n"
     ]
    },
    {
     "name": "stderr",
     "output_type": "stream",
     "text": [
      "convert squad examples to features: 100%|██████████| 1/1 [00:00<00:00,  4.31it/s]\n",
      "add example index and unique id: 100%|██████████| 1/1 [00:00<00:00, 2692.11it/s]\n",
      "Evaluating:  13%|█▎        | 2/15 [00:00<00:00, 15.48it/s]"
     ]
    },
    {
     "name": "stdout",
     "output_type": "stream",
     "text": [
      "CONVERT에 걸린시간 :  0.46239662170410156\n"
     ]
    },
    {
     "name": "stderr",
     "output_type": "stream",
     "text": [
      "Evaluating: 100%|██████████| 15/15 [00:00<00:00, 18.01it/s]\n",
      "06/03/2020 20:02:51 - INFO - korquad_metrics -   Writing predictions to: temp/predictions_.json\n",
      "06/03/2020 20:02:51 - INFO - korquad_metrics -   Writing nbest to: temp/nbest_predictions_.json\n"
     ]
    },
    {
     "name": "stdout",
     "output_type": "stream",
     "text": [
      "EXAMPLE 변환시간 :  0.005769252777099609\n"
     ]
    },
    {
     "name": "stderr",
     "output_type": "stream",
     "text": [
      "convert squad examples to features: 100%|██████████| 1/1 [00:00<00:00,  4.52it/s]\n",
      "add example index and unique id: 100%|██████████| 1/1 [00:00<00:00, 2532.79it/s]\n",
      "Evaluating:  17%|█▋        | 2/12 [00:00<00:00, 15.38it/s]"
     ]
    },
    {
     "name": "stdout",
     "output_type": "stream",
     "text": [
      "CONVERT에 걸린시간 :  0.4881455898284912\n"
     ]
    },
    {
     "name": "stderr",
     "output_type": "stream",
     "text": [
      "Evaluating: 100%|██████████| 12/12 [00:00<00:00, 17.41it/s]\n",
      "06/03/2020 20:02:55 - INFO - korquad_metrics -   Writing predictions to: temp/predictions_.json\n",
      "06/03/2020 20:02:55 - INFO - korquad_metrics -   Writing nbest to: temp/nbest_predictions_.json\n"
     ]
    },
    {
     "name": "stdout",
     "output_type": "stream",
     "text": [
      "EXAMPLE 변환시간 :  0.014394044876098633\n"
     ]
    },
    {
     "name": "stderr",
     "output_type": "stream",
     "text": [
      "convert squad examples to features: 100%|██████████| 1/1 [00:00<00:00,  1.26it/s]\n",
      "add example index and unique id: 100%|██████████| 1/1 [00:00<00:00, 5322.72it/s]\n",
      "Evaluating:   5%|▍         | 2/41 [00:00<00:02, 15.75it/s]"
     ]
    },
    {
     "name": "stdout",
     "output_type": "stream",
     "text": [
      "CONVERT에 걸린시간 :  0.9808242321014404\n"
     ]
    },
    {
     "name": "stderr",
     "output_type": "stream",
     "text": [
      "Evaluating: 100%|██████████| 41/41 [00:02<00:00, 18.17it/s]\n",
      "06/03/2020 20:03:01 - INFO - korquad_metrics -   Writing predictions to: temp/predictions_.json\n",
      "06/03/2020 20:03:01 - INFO - korquad_metrics -   Writing nbest to: temp/nbest_predictions_.json\n"
     ]
    },
    {
     "name": "stdout",
     "output_type": "stream",
     "text": [
      "EXAMPLE 변환시간 :  0.04409313201904297\n"
     ]
    },
    {
     "name": "stderr",
     "output_type": "stream",
     "text": [
      "convert squad examples to features: 100%|██████████| 1/1 [00:22<00:00, 22.35s/it]\n",
      "add example index and unique id: 100%|██████████| 1/1 [00:00<00:00, 2369.66it/s]\n",
      "Evaluating:   2%|▏         | 2/128 [00:00<00:09, 13.95it/s]"
     ]
    },
    {
     "name": "stdout",
     "output_type": "stream",
     "text": [
      "CONVERT에 걸린시간 :  22.679830312728882\n"
     ]
    },
    {
     "name": "stderr",
     "output_type": "stream",
     "text": [
      "Evaluating: 100%|██████████| 128/128 [00:07<00:00, 18.15it/s]\n",
      "06/03/2020 20:03:34 - INFO - korquad_metrics -   Writing predictions to: temp/predictions_.json\n",
      "06/03/2020 20:03:34 - INFO - korquad_metrics -   Writing nbest to: temp/nbest_predictions_.json\n"
     ]
    },
    {
     "name": "stdout",
     "output_type": "stream",
     "text": [
      "EXAMPLE 변환시간 :  0.0077784061431884766\n"
     ]
    },
    {
     "name": "stderr",
     "output_type": "stream",
     "text": [
      "convert squad examples to features: 100%|██████████| 1/1 [00:00<00:00,  1.62it/s]\n",
      "add example index and unique id: 100%|██████████| 1/1 [00:00<00:00, 2686.93it/s]\n",
      "Evaluating:  10%|█         | 2/20 [00:00<00:01, 15.40it/s]"
     ]
    },
    {
     "name": "stdout",
     "output_type": "stream",
     "text": [
      "CONVERT에 걸린시간 :  0.867067813873291\n"
     ]
    },
    {
     "name": "stderr",
     "output_type": "stream",
     "text": [
      "Evaluating: 100%|██████████| 20/20 [00:01<00:00, 17.94it/s]\n",
      "06/03/2020 20:03:39 - INFO - korquad_metrics -   Writing predictions to: temp/predictions_.json\n",
      "06/03/2020 20:03:39 - INFO - korquad_metrics -   Writing nbest to: temp/nbest_predictions_.json\n"
     ]
    },
    {
     "name": "stdout",
     "output_type": "stream",
     "text": [
      "EXAMPLE 변환시간 :  0.009182214736938477\n"
     ]
    },
    {
     "name": "stderr",
     "output_type": "stream",
     "text": [
      "convert squad examples to features: 100%|██████████| 1/1 [00:00<00:00,  2.50it/s]\n",
      "add example index and unique id: 100%|██████████| 1/1 [00:00<00:00, 5577.53it/s]\n",
      "Evaluating:  11%|█         | 2/19 [00:00<00:01, 15.74it/s]"
     ]
    },
    {
     "name": "stdout",
     "output_type": "stream",
     "text": [
      "CONVERT에 걸린시간 :  0.5828657150268555\n"
     ]
    },
    {
     "name": "stderr",
     "output_type": "stream",
     "text": [
      "Evaluating: 100%|██████████| 19/19 [00:01<00:00, 18.16it/s]\n",
      "06/03/2020 20:03:43 - INFO - korquad_metrics -   Writing predictions to: temp/predictions_.json\n",
      "06/03/2020 20:03:43 - INFO - korquad_metrics -   Writing nbest to: temp/nbest_predictions_.json\n"
     ]
    },
    {
     "name": "stdout",
     "output_type": "stream",
     "text": [
      "EXAMPLE 변환시간 :  0.0006706714630126953\n"
     ]
    },
    {
     "name": "stderr",
     "output_type": "stream",
     "text": [
      "convert squad examples to features: 100%|██████████| 1/1 [00:00<00:00, 28.04it/s]\n",
      "add example index and unique id: 100%|██████████| 1/1 [00:00<00:00, 7810.62it/s]\n",
      "Evaluating: 100%|██████████| 2/2 [00:00<00:00, 22.80it/s]\n",
      "06/03/2020 20:03:46 - INFO - korquad_metrics -   Writing predictions to: temp/predictions_.json\n",
      "06/03/2020 20:03:46 - INFO - korquad_metrics -   Writing nbest to: temp/nbest_predictions_.json\n"
     ]
    },
    {
     "name": "stdout",
     "output_type": "stream",
     "text": [
      "CONVERT에 걸린시간 :  0.26641345024108887\n",
      "EXAMPLE 변환시간 :  0.0017347335815429688\n"
     ]
    },
    {
     "name": "stderr",
     "output_type": "stream",
     "text": [
      "convert squad examples to features: 100%|██████████| 1/1 [00:00<00:00, 13.14it/s]\n",
      "add example index and unique id: 100%|██████████| 1/1 [00:00<00:00, 2194.82it/s]\n",
      "Evaluating:  29%|██▊       | 2/7 [00:00<00:00, 15.53it/s]"
     ]
    },
    {
     "name": "stdout",
     "output_type": "stream",
     "text": [
      "CONVERT에 걸린시간 :  0.25753140449523926\n"
     ]
    },
    {
     "name": "stderr",
     "output_type": "stream",
     "text": [
      "Evaluating: 100%|██████████| 7/7 [00:00<00:00, 18.02it/s]\n",
      "06/03/2020 20:03:49 - INFO - korquad_metrics -   Writing predictions to: temp/predictions_.json\n",
      "06/03/2020 20:03:49 - INFO - korquad_metrics -   Writing nbest to: temp/nbest_predictions_.json\n"
     ]
    },
    {
     "name": "stdout",
     "output_type": "stream",
     "text": [
      "EXAMPLE 변환시간 :  0.0017774105072021484\n"
     ]
    },
    {
     "name": "stderr",
     "output_type": "stream",
     "text": [
      "convert squad examples to features: 100%|██████████| 1/1 [00:00<00:00, 17.28it/s]\n",
      "add example index and unique id: 100%|██████████| 1/1 [00:00<00:00, 4275.54it/s]\n",
      "Evaluating:  22%|██▏       | 2/9 [00:00<00:00, 15.44it/s]"
     ]
    },
    {
     "name": "stdout",
     "output_type": "stream",
     "text": [
      "CONVERT에 걸린시간 :  0.2581756114959717\n"
     ]
    },
    {
     "name": "stderr",
     "output_type": "stream",
     "text": [
      "Evaluating: 100%|██████████| 9/9 [00:00<00:00, 18.18it/s]\n",
      "06/03/2020 20:03:52 - INFO - korquad_metrics -   Writing predictions to: temp/predictions_.json\n",
      "06/03/2020 20:03:52 - INFO - korquad_metrics -   Writing nbest to: temp/nbest_predictions_.json\n"
     ]
    },
    {
     "name": "stdout",
     "output_type": "stream",
     "text": [
      "EXAMPLE 변환시간 :  0.001990079879760742\n"
     ]
    },
    {
     "name": "stderr",
     "output_type": "stream",
     "text": [
      "convert squad examples to features: 100%|██████████| 1/1 [00:00<00:00,  3.32it/s]\n",
      "add example index and unique id: 100%|██████████| 1/1 [00:00<00:00, 6932.73it/s]\n",
      "Evaluating:  33%|███▎      | 2/6 [00:00<00:00, 15.58it/s]"
     ]
    },
    {
     "name": "stdout",
     "output_type": "stream",
     "text": [
      "CONVERT에 걸린시간 :  0.5704586505889893\n"
     ]
    },
    {
     "name": "stderr",
     "output_type": "stream",
     "text": [
      "Evaluating: 100%|██████████| 6/6 [00:00<00:00, 16.93it/s]\n",
      "06/03/2020 20:03:55 - INFO - korquad_metrics -   Writing predictions to: temp/predictions_.json\n",
      "06/03/2020 20:03:55 - INFO - korquad_metrics -   Writing nbest to: temp/nbest_predictions_.json\n"
     ]
    },
    {
     "name": "stdout",
     "output_type": "stream",
     "text": [
      "EXAMPLE 변환시간 :  0.0040645599365234375\n"
     ]
    },
    {
     "name": "stderr",
     "output_type": "stream",
     "text": [
      "convert squad examples to features: 100%|██████████| 1/1 [00:00<00:00,  4.91it/s]\n",
      "add example index and unique id: 100%|██████████| 1/1 [00:00<00:00, 6615.62it/s]\n",
      "Evaluating:  14%|█▍        | 2/14 [00:00<00:00, 15.50it/s]"
     ]
    },
    {
     "name": "stdout",
     "output_type": "stream",
     "text": [
      "CONVERT에 걸린시간 :  0.4896354675292969\n"
     ]
    },
    {
     "name": "stderr",
     "output_type": "stream",
     "text": [
      "Evaluating: 100%|██████████| 14/14 [00:00<00:00, 18.31it/s]\n",
      "06/03/2020 20:03:59 - INFO - korquad_metrics -   Writing predictions to: temp/predictions_.json\n",
      "06/03/2020 20:03:59 - INFO - korquad_metrics -   Writing nbest to: temp/nbest_predictions_.json\n"
     ]
    },
    {
     "name": "stdout",
     "output_type": "stream",
     "text": [
      "EXAMPLE 변환시간 :  0.001413106918334961\n"
     ]
    },
    {
     "name": "stderr",
     "output_type": "stream",
     "text": [
      "convert squad examples to features: 100%|██████████| 1/1 [00:00<00:00,  7.77it/s]\n",
      "add example index and unique id: 100%|██████████| 1/1 [00:00<00:00, 6574.14it/s]\n",
      "Evaluating:  29%|██▊       | 2/7 [00:00<00:00, 15.50it/s]"
     ]
    },
    {
     "name": "stdout",
     "output_type": "stream",
     "text": [
      "CONVERT에 걸린시간 :  0.37195730209350586\n"
     ]
    },
    {
     "name": "stderr",
     "output_type": "stream",
     "text": [
      "Evaluating: 100%|██████████| 7/7 [00:00<00:00, 17.34it/s]\n",
      "06/03/2020 20:04:02 - INFO - korquad_metrics -   Writing predictions to: temp/predictions_.json\n",
      "06/03/2020 20:04:02 - INFO - korquad_metrics -   Writing nbest to: temp/nbest_predictions_.json\n"
     ]
    },
    {
     "name": "stdout",
     "output_type": "stream",
     "text": [
      "EXAMPLE 변환시간 :  0.0007917881011962891\n"
     ]
    },
    {
     "name": "stderr",
     "output_type": "stream",
     "text": [
      "convert squad examples to features: 100%|██████████| 1/1 [00:00<00:00, 32.98it/s]\n",
      "add example index and unique id: 100%|██████████| 1/1 [00:00<00:00, 5127.51it/s]\n",
      "Evaluating: 100%|██████████| 2/2 [00:00<00:00, 19.68it/s]\n",
      "06/03/2020 20:04:05 - INFO - korquad_metrics -   Writing predictions to: temp/predictions_.json\n",
      "06/03/2020 20:04:05 - INFO - korquad_metrics -   Writing nbest to: temp/nbest_predictions_.json\n"
     ]
    },
    {
     "name": "stdout",
     "output_type": "stream",
     "text": [
      "CONVERT에 걸린시간 :  0.2601003646850586\n",
      "EXAMPLE 변환시간 :  0.0012209415435791016\n"
     ]
    },
    {
     "name": "stderr",
     "output_type": "stream",
     "text": [
      "convert squad examples to features: 100%|██████████| 1/1 [00:00<00:00, 11.23it/s]\n",
      "add example index and unique id: 100%|██████████| 1/1 [00:00<00:00, 6955.73it/s]\n",
      "Evaluating: 100%|██████████| 3/3 [00:00<00:00, 15.92it/s]\n",
      "06/03/2020 20:04:08 - INFO - korquad_metrics -   Writing predictions to: temp/predictions_.json\n",
      "06/03/2020 20:04:08 - INFO - korquad_metrics -   Writing nbest to: temp/nbest_predictions_.json\n"
     ]
    },
    {
     "name": "stdout",
     "output_type": "stream",
     "text": [
      "CONVERT에 걸린시간 :  0.2559947967529297\n",
      "EXAMPLE 변환시간 :  0.0064623355865478516\n"
     ]
    },
    {
     "name": "stderr",
     "output_type": "stream",
     "text": [
      "convert squad examples to features: 100%|██████████| 1/1 [00:00<00:00,  2.66it/s]\n",
      "add example index and unique id: 100%|██████████| 1/1 [00:00<00:00, 2824.45it/s]\n",
      "Evaluating:  13%|█▎        | 2/15 [00:00<00:00, 15.67it/s]"
     ]
    },
    {
     "name": "stdout",
     "output_type": "stream",
     "text": [
      "CONVERT에 걸린시간 :  0.5656032562255859\n"
     ]
    },
    {
     "name": "stderr",
     "output_type": "stream",
     "text": [
      "Evaluating: 100%|██████████| 15/15 [00:00<00:00, 18.15it/s]\n",
      "06/03/2020 20:04:11 - INFO - korquad_metrics -   Writing predictions to: temp/predictions_.json\n",
      "06/03/2020 20:04:11 - INFO - korquad_metrics -   Writing nbest to: temp/nbest_predictions_.json\n"
     ]
    },
    {
     "name": "stdout",
     "output_type": "stream",
     "text": [
      "EXAMPLE 변환시간 :  0.018092632293701172\n"
     ]
    },
    {
     "name": "stderr",
     "output_type": "stream",
     "text": [
      "convert squad examples to features: 100%|██████████| 1/1 [00:01<00:00,  1.26s/it]\n",
      "add example index and unique id: 100%|██████████| 1/1 [00:00<00:00, 1567.38it/s]\n",
      "Evaluating:   5%|▍         | 2/43 [00:00<00:02, 15.53it/s]"
     ]
    },
    {
     "name": "stdout",
     "output_type": "stream",
     "text": [
      "CONVERT에 걸린시간 :  1.4858753681182861\n"
     ]
    },
    {
     "name": "stderr",
     "output_type": "stream",
     "text": [
      "Evaluating: 100%|██████████| 43/43 [00:02<00:00, 17.99it/s]\n",
      "06/03/2020 20:04:18 - INFO - korquad_metrics -   Writing predictions to: temp/predictions_.json\n",
      "06/03/2020 20:04:18 - INFO - korquad_metrics -   Writing nbest to: temp/nbest_predictions_.json\n"
     ]
    },
    {
     "name": "stdout",
     "output_type": "stream",
     "text": [
      "EXAMPLE 변환시간 :  0.003961801528930664\n"
     ]
    },
    {
     "name": "stderr",
     "output_type": "stream",
     "text": [
      "convert squad examples to features: 100%|██████████| 1/1 [00:00<00:00,  2.89it/s]\n",
      "add example index and unique id: 100%|██████████| 1/1 [00:00<00:00, 2502.57it/s]\n",
      "Evaluating:  18%|█▊        | 2/11 [00:00<00:00, 15.34it/s]"
     ]
    },
    {
     "name": "stdout",
     "output_type": "stream",
     "text": [
      "CONVERT에 걸린시간 :  0.5712583065032959\n"
     ]
    },
    {
     "name": "stderr",
     "output_type": "stream",
     "text": [
      "Evaluating: 100%|██████████| 11/11 [00:00<00:00, 17.06it/s]\n",
      "06/03/2020 20:04:22 - INFO - korquad_metrics -   Writing predictions to: temp/predictions_.json\n",
      "06/03/2020 20:04:22 - INFO - korquad_metrics -   Writing nbest to: temp/nbest_predictions_.json\n"
     ]
    },
    {
     "name": "stdout",
     "output_type": "stream",
     "text": [
      "EXAMPLE 변환시간 :  0.005726337432861328\n"
     ]
    },
    {
     "name": "stderr",
     "output_type": "stream",
     "text": [
      "convert squad examples to features: 100%|██████████| 1/1 [00:00<00:00,  2.29it/s]\n",
      "add example index and unique id: 100%|██████████| 1/1 [00:00<00:00, 4140.48it/s]\n",
      "Evaluating:  12%|█▏        | 2/17 [00:00<00:00, 15.54it/s]"
     ]
    },
    {
     "name": "stdout",
     "output_type": "stream",
     "text": [
      "CONVERT에 걸린시간 :  0.6631033420562744\n"
     ]
    },
    {
     "name": "stderr",
     "output_type": "stream",
     "text": [
      "Evaluating: 100%|██████████| 17/17 [00:00<00:00, 17.75it/s]\n",
      "06/03/2020 20:04:27 - INFO - korquad_metrics -   Writing predictions to: temp/predictions_.json\n",
      "06/03/2020 20:04:27 - INFO - korquad_metrics -   Writing nbest to: temp/nbest_predictions_.json\n"
     ]
    },
    {
     "name": "stdout",
     "output_type": "stream",
     "text": [
      "EXAMPLE 변환시간 :  0.02005791664123535\n"
     ]
    },
    {
     "name": "stderr",
     "output_type": "stream",
     "text": [
      "convert squad examples to features: 100%|██████████| 1/1 [00:03<00:00,  3.34s/it]\n",
      "add example index and unique id: 100%|██████████| 1/1 [00:00<00:00, 3443.60it/s]\n",
      "Evaluating:   4%|▎         | 2/54 [00:00<00:03, 15.50it/s]"
     ]
    },
    {
     "name": "stdout",
     "output_type": "stream",
     "text": [
      "CONVERT에 걸린시간 :  3.590233087539673\n"
     ]
    },
    {
     "name": "stderr",
     "output_type": "stream",
     "text": [
      "Evaluating: 100%|██████████| 54/54 [00:02<00:00, 18.21it/s]\n",
      "06/03/2020 20:04:36 - INFO - korquad_metrics -   Writing predictions to: temp/predictions_.json\n",
      "06/03/2020 20:04:36 - INFO - korquad_metrics -   Writing nbest to: temp/nbest_predictions_.json\n"
     ]
    },
    {
     "name": "stdout",
     "output_type": "stream",
     "text": [
      "EXAMPLE 변환시간 :  0.029005050659179688\n"
     ]
    },
    {
     "name": "stderr",
     "output_type": "stream",
     "text": [
      "convert squad examples to features: 100%|██████████| 1/1 [00:03<00:00,  3.08s/it]\n",
      "add example index and unique id: 100%|██████████| 1/1 [00:00<00:00, 1812.58it/s]\n",
      "Evaluating:   3%|▎         | 2/72 [00:00<00:04, 15.73it/s]"
     ]
    },
    {
     "name": "stdout",
     "output_type": "stream",
     "text": [
      "CONVERT에 걸린시간 :  3.3039770126342773\n"
     ]
    },
    {
     "name": "stderr",
     "output_type": "stream",
     "text": [
      "Evaluating: 100%|██████████| 72/72 [00:03<00:00, 18.09it/s]\n",
      "06/03/2020 20:04:47 - INFO - korquad_metrics -   Writing predictions to: temp/predictions_.json\n",
      "06/03/2020 20:04:47 - INFO - korquad_metrics -   Writing nbest to: temp/nbest_predictions_.json\n"
     ]
    },
    {
     "name": "stdout",
     "output_type": "stream",
     "text": [
      "EXAMPLE 변환시간 :  0.0014615058898925781\n"
     ]
    },
    {
     "name": "stderr",
     "output_type": "stream",
     "text": [
      "convert squad examples to features: 100%|██████████| 1/1 [00:00<00:00,  8.81it/s]\n",
      "add example index and unique id: 100%|██████████| 1/1 [00:00<00:00, 6990.51it/s]\n",
      "Evaluating:  50%|█████     | 2/4 [00:00<00:00, 15.40it/s]"
     ]
    },
    {
     "name": "stdout",
     "output_type": "stream",
     "text": [
      "CONVERT에 걸린시간 :  0.36533522605895996\n"
     ]
    },
    {
     "name": "stderr",
     "output_type": "stream",
     "text": [
      "Evaluating: 100%|██████████| 4/4 [00:00<00:00, 16.50it/s]\n",
      "06/03/2020 20:04:50 - INFO - korquad_metrics -   Writing predictions to: temp/predictions_.json\n",
      "06/03/2020 20:04:50 - INFO - korquad_metrics -   Writing nbest to: temp/nbest_predictions_.json\n"
     ]
    },
    {
     "name": "stdout",
     "output_type": "stream",
     "text": [
      "EXAMPLE 변환시간 :  0.006083488464355469\n"
     ]
    },
    {
     "name": "stderr",
     "output_type": "stream",
     "text": [
      "convert squad examples to features: 100%|██████████| 1/1 [00:00<00:00,  1.90it/s]\n",
      "add example index and unique id: 100%|██████████| 1/1 [00:00<00:00, 6316.72it/s]\n",
      "Evaluating:  13%|█▎        | 2/15 [00:00<00:00, 15.34it/s]"
     ]
    },
    {
     "name": "stdout",
     "output_type": "stream",
     "text": [
      "CONVERT에 걸린시간 :  0.7735486030578613\n"
     ]
    },
    {
     "name": "stderr",
     "output_type": "stream",
     "text": [
      "Evaluating: 100%|██████████| 15/15 [00:00<00:00, 17.46it/s]\n",
      "06/03/2020 20:04:54 - INFO - korquad_metrics -   Writing predictions to: temp/predictions_.json\n",
      "06/03/2020 20:04:54 - INFO - korquad_metrics -   Writing nbest to: temp/nbest_predictions_.json\n"
     ]
    },
    {
     "name": "stdout",
     "output_type": "stream",
     "text": [
      "EXAMPLE 변환시간 :  0.005400419235229492\n"
     ]
    },
    {
     "name": "stderr",
     "output_type": "stream",
     "text": [
      "convert squad examples to features: 100%|██████████| 1/1 [00:00<00:00,  3.96it/s]\n",
      "add example index and unique id: 100%|██████████| 1/1 [00:00<00:00, 3172.70it/s]\n",
      "Evaluating:  13%|█▎        | 2/15 [00:00<00:00, 15.39it/s]"
     ]
    },
    {
     "name": "stdout",
     "output_type": "stream",
     "text": [
      "CONVERT에 걸린시간 :  0.4945836067199707\n"
     ]
    },
    {
     "name": "stderr",
     "output_type": "stream",
     "text": [
      "Evaluating: 100%|██████████| 15/15 [00:00<00:00, 17.81it/s]\n",
      "06/03/2020 20:04:58 - INFO - korquad_metrics -   Writing predictions to: temp/predictions_.json\n",
      "06/03/2020 20:04:58 - INFO - korquad_metrics -   Writing nbest to: temp/nbest_predictions_.json\n"
     ]
    },
    {
     "name": "stdout",
     "output_type": "stream",
     "text": [
      "EXAMPLE 변환시간 :  0.001371145248413086\n"
     ]
    },
    {
     "name": "stderr",
     "output_type": "stream",
     "text": [
      "convert squad examples to features: 100%|██████████| 1/1 [00:00<00:00,  6.02it/s]\n",
      "add example index and unique id: 100%|██████████| 1/1 [00:00<00:00, 3039.35it/s]\n",
      "Evaluating:  25%|██▌       | 2/8 [00:00<00:00, 15.71it/s]"
     ]
    },
    {
     "name": "stdout",
     "output_type": "stream",
     "text": [
      "CONVERT에 걸린시간 :  0.3784961700439453\n"
     ]
    },
    {
     "name": "stderr",
     "output_type": "stream",
     "text": [
      "Evaluating: 100%|██████████| 8/8 [00:00<00:00, 18.26it/s]\n",
      "06/03/2020 20:05:02 - INFO - korquad_metrics -   Writing predictions to: temp/predictions_.json\n",
      "06/03/2020 20:05:02 - INFO - korquad_metrics -   Writing nbest to: temp/nbest_predictions_.json\n"
     ]
    },
    {
     "name": "stdout",
     "output_type": "stream",
     "text": [
      "EXAMPLE 변환시간 :  0.0017616748809814453\n"
     ]
    },
    {
     "name": "stderr",
     "output_type": "stream",
     "text": [
      "convert squad examples to features: 100%|██████████| 1/1 [00:00<00:00, 14.50it/s]\n",
      "add example index and unique id: 100%|██████████| 1/1 [00:00<00:00, 5454.23it/s]\n",
      "Evaluating:  25%|██▌       | 2/8 [00:00<00:00, 15.36it/s]"
     ]
    },
    {
     "name": "stdout",
     "output_type": "stream",
     "text": [
      "CONVERT에 걸린시간 :  0.2762916088104248\n"
     ]
    },
    {
     "name": "stderr",
     "output_type": "stream",
     "text": [
      "Evaluating: 100%|██████████| 8/8 [00:00<00:00, 17.55it/s]\n",
      "06/03/2020 20:05:05 - INFO - korquad_metrics -   Writing predictions to: temp/predictions_.json\n",
      "06/03/2020 20:05:05 - INFO - korquad_metrics -   Writing nbest to: temp/nbest_predictions_.json\n"
     ]
    },
    {
     "name": "stdout",
     "output_type": "stream",
     "text": [
      "EXAMPLE 변환시간 :  0.00946187973022461\n"
     ]
    },
    {
     "name": "stderr",
     "output_type": "stream",
     "text": [
      "convert squad examples to features: 100%|██████████| 1/1 [00:00<00:00,  2.48it/s]\n",
      "add example index and unique id: 100%|██████████| 1/1 [00:00<00:00, 3123.09it/s]\n",
      "Evaluating:   8%|▊         | 2/26 [00:00<00:01, 15.60it/s]"
     ]
    },
    {
     "name": "stdout",
     "output_type": "stream",
     "text": [
      "CONVERT에 걸린시간 :  0.6821722984313965\n"
     ]
    },
    {
     "name": "stderr",
     "output_type": "stream",
     "text": [
      "Evaluating: 100%|██████████| 26/26 [00:01<00:00, 18.13it/s]\n",
      "06/03/2020 20:05:10 - INFO - korquad_metrics -   Writing predictions to: temp/predictions_.json\n",
      "06/03/2020 20:05:10 - INFO - korquad_metrics -   Writing nbest to: temp/nbest_predictions_.json\n"
     ]
    },
    {
     "name": "stdout",
     "output_type": "stream",
     "text": [
      "EXAMPLE 변환시간 :  0.0034837722778320312\n"
     ]
    },
    {
     "name": "stderr",
     "output_type": "stream",
     "text": [
      "convert squad examples to features: 100%|██████████| 1/1 [00:00<00:00,  2.90it/s]\n",
      "add example index and unique id: 100%|██████████| 1/1 [00:00<00:00, 6689.48it/s]\n",
      "Evaluating:  20%|██        | 2/10 [00:00<00:00, 15.32it/s]"
     ]
    },
    {
     "name": "stdout",
     "output_type": "stream",
     "text": [
      "CONVERT에 걸린시간 :  0.5632016658782959\n"
     ]
    },
    {
     "name": "stderr",
     "output_type": "stream",
     "text": [
      "Evaluating: 100%|██████████| 10/10 [00:00<00:00, 18.20it/s]\n",
      "06/03/2020 20:05:14 - INFO - korquad_metrics -   Writing predictions to: temp/predictions_.json\n",
      "06/03/2020 20:05:14 - INFO - korquad_metrics -   Writing nbest to: temp/nbest_predictions_.json\n"
     ]
    },
    {
     "name": "stdout",
     "output_type": "stream",
     "text": [
      "EXAMPLE 변환시간 :  0.0027801990509033203\n"
     ]
    },
    {
     "name": "stderr",
     "output_type": "stream",
     "text": [
      "convert squad examples to features: 100%|██████████| 1/1 [00:00<00:00,  4.88it/s]\n",
      "add example index and unique id: 100%|██████████| 1/1 [00:00<00:00, 3968.12it/s]\n",
      "Evaluating:  29%|██▊       | 2/7 [00:00<00:00, 15.42it/s]"
     ]
    },
    {
     "name": "stdout",
     "output_type": "stream",
     "text": [
      "CONVERT에 걸린시간 :  0.46062731742858887\n"
     ]
    },
    {
     "name": "stderr",
     "output_type": "stream",
     "text": [
      "Evaluating: 100%|██████████| 7/7 [00:00<00:00, 18.09it/s]\n",
      "06/03/2020 20:05:19 - INFO - korquad_metrics -   Writing predictions to: temp/predictions_.json\n",
      "06/03/2020 20:05:19 - INFO - korquad_metrics -   Writing nbest to: temp/nbest_predictions_.json\n"
     ]
    },
    {
     "name": "stdout",
     "output_type": "stream",
     "text": [
      "EXAMPLE 변환시간 :  0.013920783996582031\n"
     ]
    },
    {
     "name": "stderr",
     "output_type": "stream",
     "text": [
      "convert squad examples to features: 100%|██████████| 1/1 [00:00<00:00,  1.28it/s]\n",
      "add example index and unique id: 100%|██████████| 1/1 [00:00<00:00, 5489.93it/s]\n",
      "Evaluating:   6%|▋         | 2/32 [00:00<00:01, 15.74it/s]"
     ]
    },
    {
     "name": "stdout",
     "output_type": "stream",
     "text": [
      "CONVERT에 걸린시간 :  0.9840478897094727\n"
     ]
    },
    {
     "name": "stderr",
     "output_type": "stream",
     "text": [
      "Evaluating: 100%|██████████| 32/32 [00:01<00:00, 18.08it/s]\n",
      "06/03/2020 20:05:25 - INFO - korquad_metrics -   Writing predictions to: temp/predictions_.json\n",
      "06/03/2020 20:05:25 - INFO - korquad_metrics -   Writing nbest to: temp/nbest_predictions_.json\n"
     ]
    },
    {
     "name": "stdout",
     "output_type": "stream",
     "text": [
      "EXAMPLE 변환시간 :  0.0007872581481933594\n"
     ]
    },
    {
     "name": "stderr",
     "output_type": "stream",
     "text": [
      "convert squad examples to features: 100%|██████████| 1/1 [00:00<00:00, 31.84it/s]\n",
      "add example index and unique id: 100%|██████████| 1/1 [00:00<00:00, 8322.03it/s]\n",
      "Evaluating: 100%|██████████| 2/2 [00:00<00:00, 15.33it/s]\n",
      "06/03/2020 20:05:28 - INFO - korquad_metrics -   Writing predictions to: temp/predictions_.json\n",
      "06/03/2020 20:05:28 - INFO - korquad_metrics -   Writing nbest to: temp/nbest_predictions_.json\n"
     ]
    },
    {
     "name": "stdout",
     "output_type": "stream",
     "text": [
      "CONVERT에 걸린시간 :  0.2803761959075928\n",
      "EXAMPLE 변환시간 :  0.0347599983215332\n"
     ]
    },
    {
     "name": "stderr",
     "output_type": "stream",
     "text": [
      "convert squad examples to features: 100%|██████████| 1/1 [00:05<00:00,  5.03s/it]\n",
      "add example index and unique id: 100%|██████████| 1/1 [00:00<00:00, 2744.96it/s]\n",
      "Evaluating:   2%|▏         | 2/93 [00:00<00:05, 15.47it/s]"
     ]
    },
    {
     "name": "stdout",
     "output_type": "stream",
     "text": [
      "CONVERT에 걸린시간 :  5.371800422668457\n"
     ]
    },
    {
     "name": "stderr",
     "output_type": "stream",
     "text": [
      "Evaluating: 100%|██████████| 93/93 [00:05<00:00, 18.09it/s]\n",
      "06/03/2020 20:05:41 - INFO - korquad_metrics -   Writing predictions to: temp/predictions_.json\n",
      "06/03/2020 20:05:41 - INFO - korquad_metrics -   Writing nbest to: temp/nbest_predictions_.json\n"
     ]
    },
    {
     "name": "stdout",
     "output_type": "stream",
     "text": [
      "EXAMPLE 변환시간 :  0.0021820068359375\n"
     ]
    },
    {
     "name": "stderr",
     "output_type": "stream",
     "text": [
      "convert squad examples to features: 100%|██████████| 1/1 [00:00<00:00, 10.99it/s]\n",
      "add example index and unique id: 100%|██████████| 1/1 [00:00<00:00, 2781.37it/s]\n",
      "Evaluating:  17%|█▋        | 2/12 [00:00<00:00, 15.37it/s]"
     ]
    },
    {
     "name": "stdout",
     "output_type": "stream",
     "text": [
      "CONVERT에 걸린시간 :  0.2612462043762207\n"
     ]
    },
    {
     "name": "stderr",
     "output_type": "stream",
     "text": [
      "Evaluating: 100%|██████████| 12/12 [00:00<00:00, 17.40it/s]\n",
      "06/03/2020 20:05:45 - INFO - korquad_metrics -   Writing predictions to: temp/predictions_.json\n",
      "06/03/2020 20:05:45 - INFO - korquad_metrics -   Writing nbest to: temp/nbest_predictions_.json\n"
     ]
    },
    {
     "name": "stdout",
     "output_type": "stream",
     "text": [
      "EXAMPLE 변환시간 :  0.003285646438598633\n"
     ]
    },
    {
     "name": "stderr",
     "output_type": "stream",
     "text": [
      "convert squad examples to features: 100%|██████████| 1/1 [00:00<00:00,  5.81it/s]\n",
      "add example index and unique id: 100%|██████████| 1/1 [00:00<00:00, 3307.81it/s]\n",
      "Evaluating:  29%|██▊       | 2/7 [00:00<00:00, 13.68it/s]"
     ]
    },
    {
     "name": "stdout",
     "output_type": "stream",
     "text": [
      "CONVERT에 걸린시간 :  0.3726775646209717\n"
     ]
    },
    {
     "name": "stderr",
     "output_type": "stream",
     "text": [
      "Evaluating: 100%|██████████| 7/7 [00:00<00:00, 16.11it/s]\n",
      "06/03/2020 20:05:48 - INFO - korquad_metrics -   Writing predictions to: temp/predictions_.json\n",
      "06/03/2020 20:05:48 - INFO - korquad_metrics -   Writing nbest to: temp/nbest_predictions_.json\n"
     ]
    },
    {
     "name": "stdout",
     "output_type": "stream",
     "text": [
      "EXAMPLE 변환시간 :  0.0011649131774902344\n"
     ]
    },
    {
     "name": "stderr",
     "output_type": "stream",
     "text": [
      "convert squad examples to features: 100%|██████████| 1/1 [00:00<00:00, 23.42it/s]\n",
      "add example index and unique id: 100%|██████████| 1/1 [00:00<00:00, 6069.90it/s]\n",
      "Evaluating:  50%|█████     | 2/4 [00:00<00:00, 14.82it/s]"
     ]
    },
    {
     "name": "stdout",
     "output_type": "stream",
     "text": [
      "CONVERT에 걸린시간 :  0.2752108573913574\n"
     ]
    },
    {
     "name": "stderr",
     "output_type": "stream",
     "text": [
      "Evaluating: 100%|██████████| 4/4 [00:00<00:00, 16.85it/s]\n",
      "06/03/2020 20:05:51 - INFO - korquad_metrics -   Writing predictions to: temp/predictions_.json\n",
      "06/03/2020 20:05:51 - INFO - korquad_metrics -   Writing nbest to: temp/nbest_predictions_.json\n"
     ]
    },
    {
     "name": "stdout",
     "output_type": "stream",
     "text": [
      "EXAMPLE 변환시간 :  0.0009808540344238281\n"
     ]
    },
    {
     "name": "stderr",
     "output_type": "stream",
     "text": [
      "convert squad examples to features: 100%|██████████| 1/1 [00:00<00:00, 27.93it/s]\n",
      "add example index and unique id: 100%|██████████| 1/1 [00:00<00:00, 4505.16it/s]\n",
      "Evaluating: 100%|██████████| 3/3 [00:00<00:00, 15.59it/s]\n",
      "06/03/2020 20:05:54 - INFO - korquad_metrics -   Writing predictions to: temp/predictions_.json\n",
      "06/03/2020 20:05:54 - INFO - korquad_metrics -   Writing nbest to: temp/nbest_predictions_.json\n"
     ]
    },
    {
     "name": "stdout",
     "output_type": "stream",
     "text": [
      "CONVERT에 걸린시간 :  0.29169535636901855\n",
      "EXAMPLE 변환시간 :  0.04785752296447754\n"
     ]
    },
    {
     "name": "stderr",
     "output_type": "stream",
     "text": [
      "convert squad examples to features: 100%|██████████| 1/1 [00:12<00:00, 12.67s/it]\n",
      "add example index and unique id: 100%|██████████| 1/1 [00:00<00:00, 2605.16it/s]\n",
      "Evaluating:   2%|▏         | 2/102 [00:00<00:06, 14.62it/s]"
     ]
    },
    {
     "name": "stdout",
     "output_type": "stream",
     "text": [
      "CONVERT에 걸린시간 :  13.008740663528442\n"
     ]
    },
    {
     "name": "stderr",
     "output_type": "stream",
     "text": [
      "Evaluating: 100%|██████████| 102/102 [00:05<00:00, 18.11it/s]\n",
      "06/03/2020 20:06:15 - INFO - korquad_metrics -   Writing predictions to: temp/predictions_.json\n",
      "06/03/2020 20:06:15 - INFO - korquad_metrics -   Writing nbest to: temp/nbest_predictions_.json\n"
     ]
    },
    {
     "name": "stdout",
     "output_type": "stream",
     "text": [
      "EXAMPLE 변환시간 :  0.027068614959716797\n"
     ]
    },
    {
     "name": "stderr",
     "output_type": "stream",
     "text": [
      "convert squad examples to features: 100%|██████████| 1/1 [00:03<00:00,  3.94s/it]\n",
      "add example index and unique id: 100%|██████████| 1/1 [00:00<00:00, 2435.72it/s]\n",
      "Evaluating:   3%|▎         | 2/72 [00:00<00:04, 15.34it/s]"
     ]
    },
    {
     "name": "stdout",
     "output_type": "stream",
     "text": [
      "CONVERT에 걸린시간 :  4.206129789352417\n"
     ]
    },
    {
     "name": "stderr",
     "output_type": "stream",
     "text": [
      "Evaluating: 100%|██████████| 72/72 [00:03<00:00, 18.10it/s]\n",
      "06/03/2020 20:06:27 - INFO - korquad_metrics -   Writing predictions to: temp/predictions_.json\n",
      "06/03/2020 20:06:27 - INFO - korquad_metrics -   Writing nbest to: temp/nbest_predictions_.json\n"
     ]
    },
    {
     "name": "stdout",
     "output_type": "stream",
     "text": [
      "EXAMPLE 변환시간 :  0.007275819778442383\n"
     ]
    },
    {
     "name": "stderr",
     "output_type": "stream",
     "text": [
      "convert squad examples to features: 100%|██████████| 1/1 [00:00<00:00,  2.68it/s]\n",
      "add example index and unique id: 100%|██████████| 1/1 [00:00<00:00, 2853.27it/s]\n",
      "Evaluating:  13%|█▎        | 2/15 [00:00<00:00, 15.48it/s]"
     ]
    },
    {
     "name": "stdout",
     "output_type": "stream",
     "text": [
      "CONVERT에 걸린시간 :  0.5723245143890381\n"
     ]
    },
    {
     "name": "stderr",
     "output_type": "stream",
     "text": [
      "Evaluating: 100%|██████████| 15/15 [00:00<00:00, 18.18it/s]\n",
      "06/03/2020 20:06:31 - INFO - korquad_metrics -   Writing predictions to: temp/predictions_.json\n",
      "06/03/2020 20:06:31 - INFO - korquad_metrics -   Writing nbest to: temp/nbest_predictions_.json\n"
     ]
    },
    {
     "name": "stdout",
     "output_type": "stream",
     "text": [
      "EXAMPLE 변환시간 :  0.005744457244873047\n"
     ]
    },
    {
     "name": "stderr",
     "output_type": "stream",
     "text": [
      "convert squad examples to features: 100%|██████████| 1/1 [00:00<00:00,  2.87it/s]\n",
      "add example index and unique id: 100%|██████████| 1/1 [00:00<00:00, 6250.83it/s]\n",
      "Evaluating:  15%|█▌        | 2/13 [00:00<00:00, 15.42it/s]"
     ]
    },
    {
     "name": "stdout",
     "output_type": "stream",
     "text": [
      "CONVERT에 걸린시간 :  0.5656025409698486\n"
     ]
    },
    {
     "name": "stderr",
     "output_type": "stream",
     "text": [
      "Evaluating: 100%|██████████| 13/13 [00:00<00:00, 17.76it/s]\n",
      "06/03/2020 20:06:35 - INFO - korquad_metrics -   Writing predictions to: temp/predictions_.json\n",
      "06/03/2020 20:06:35 - INFO - korquad_metrics -   Writing nbest to: temp/nbest_predictions_.json\n"
     ]
    },
    {
     "name": "stdout",
     "output_type": "stream",
     "text": [
      "EXAMPLE 변환시간 :  0.005634784698486328\n"
     ]
    },
    {
     "name": "stderr",
     "output_type": "stream",
     "text": [
      "convert squad examples to features: 100%|██████████| 1/1 [00:00<00:00,  4.68it/s]\n",
      "add example index and unique id: 100%|██████████| 1/1 [00:00<00:00, 2562.19it/s]\n",
      "Evaluating:  13%|█▎        | 2/15 [00:00<00:00, 15.39it/s]"
     ]
    },
    {
     "name": "stdout",
     "output_type": "stream",
     "text": [
      "CONVERT에 걸린시간 :  0.49796080589294434\n"
     ]
    },
    {
     "name": "stderr",
     "output_type": "stream",
     "text": [
      "Evaluating: 100%|██████████| 15/15 [00:00<00:00, 18.35it/s]\n",
      "06/03/2020 20:06:39 - INFO - korquad_metrics -   Writing predictions to: temp/predictions_.json\n",
      "06/03/2020 20:06:39 - INFO - korquad_metrics -   Writing nbest to: temp/nbest_predictions_.json\n"
     ]
    },
    {
     "name": "stdout",
     "output_type": "stream",
     "text": [
      "EXAMPLE 변환시간 :  0.0002353191375732422\n"
     ]
    },
    {
     "name": "stderr",
     "output_type": "stream",
     "text": [
      "convert squad examples to features: 100%|██████████| 1/1 [00:00<00:00, 113.92it/s]\n",
      "add example index and unique id: 100%|██████████| 1/1 [00:00<00:00, 8525.01it/s]\n",
      "Evaluating: 100%|██████████| 1/1 [00:00<00:00, 24.55it/s]\n",
      "06/03/2020 20:06:42 - INFO - korquad_metrics -   Writing predictions to: temp/predictions_.json\n",
      "06/03/2020 20:06:42 - INFO - korquad_metrics -   Writing nbest to: temp/nbest_predictions_.json\n"
     ]
    },
    {
     "name": "stdout",
     "output_type": "stream",
     "text": [
      "CONVERT에 걸린시간 :  0.2922072410583496\n",
      "EXAMPLE 변환시간 :  0.0013911724090576172\n"
     ]
    },
    {
     "name": "stderr",
     "output_type": "stream",
     "text": [
      "convert squad examples to features: 100%|██████████| 1/1 [00:00<00:00, 17.96it/s]\n",
      "add example index and unique id: 100%|██████████| 1/1 [00:00<00:00, 9754.20it/s]\n",
      "Evaluating:  40%|████      | 2/5 [00:00<00:00, 15.17it/s]"
     ]
    },
    {
     "name": "stdout",
     "output_type": "stream",
     "text": [
      "CONVERT에 걸린시간 :  0.272214412689209\n"
     ]
    },
    {
     "name": "stderr",
     "output_type": "stream",
     "text": [
      "Evaluating: 100%|██████████| 5/5 [00:00<00:00, 16.90it/s]\n",
      "06/03/2020 20:06:44 - INFO - korquad_metrics -   Writing predictions to: temp/predictions_.json\n",
      "06/03/2020 20:06:44 - INFO - korquad_metrics -   Writing nbest to: temp/nbest_predictions_.json\n"
     ]
    },
    {
     "name": "stdout",
     "output_type": "stream",
     "text": [
      "EXAMPLE 변환시간 :  0.003305196762084961\n"
     ]
    },
    {
     "name": "stderr",
     "output_type": "stream",
     "text": [
      "convert squad examples to features: 100%|██████████| 1/1 [00:00<00:00,  7.40it/s]\n",
      "add example index and unique id: 100%|██████████| 1/1 [00:00<00:00, 2139.95it/s]\n",
      "Evaluating:  18%|█▊        | 2/11 [00:00<00:00, 15.78it/s]"
     ]
    },
    {
     "name": "stdout",
     "output_type": "stream",
     "text": [
      "CONVERT에 걸린시간 :  0.38434886932373047\n"
     ]
    },
    {
     "name": "stderr",
     "output_type": "stream",
     "text": [
      "Evaluating: 100%|██████████| 11/11 [00:00<00:00, 17.71it/s]\n",
      "06/03/2020 20:06:47 - INFO - korquad_metrics -   Writing predictions to: temp/predictions_.json\n",
      "06/03/2020 20:06:47 - INFO - korquad_metrics -   Writing nbest to: temp/nbest_predictions_.json\n"
     ]
    },
    {
     "name": "stdout",
     "output_type": "stream",
     "text": [
      "EXAMPLE 변환시간 :  0.0006117820739746094\n"
     ]
    },
    {
     "name": "stderr",
     "output_type": "stream",
     "text": [
      "convert squad examples to features: 100%|██████████| 1/1 [00:00<00:00, 54.57it/s]\n",
      "add example index and unique id: 100%|██████████| 1/1 [00:00<00:00, 3615.78it/s]\n",
      "Evaluating: 100%|██████████| 3/3 [00:00<00:00, 18.31it/s]\n",
      "06/03/2020 20:06:50 - INFO - korquad_metrics -   Writing predictions to: temp/predictions_.json\n",
      "06/03/2020 20:06:50 - INFO - korquad_metrics -   Writing nbest to: temp/nbest_predictions_.json\n"
     ]
    },
    {
     "name": "stdout",
     "output_type": "stream",
     "text": [
      "CONVERT에 걸린시간 :  0.2912008762359619\n",
      "EXAMPLE 변환시간 :  0.002471923828125\n"
     ]
    },
    {
     "name": "stderr",
     "output_type": "stream",
     "text": [
      "convert squad examples to features: 100%|██████████| 1/1 [00:00<00:00, 14.87it/s]\n",
      "add example index and unique id: 100%|██████████| 1/1 [00:00<00:00, 937.69it/s]\n",
      "Evaluating:  22%|██▏       | 2/9 [00:00<00:00, 15.76it/s]"
     ]
    },
    {
     "name": "stdout",
     "output_type": "stream",
     "text": [
      "CONVERT에 걸린시간 :  0.2968614101409912\n"
     ]
    },
    {
     "name": "stderr",
     "output_type": "stream",
     "text": [
      "Evaluating: 100%|██████████| 9/9 [00:00<00:00, 17.39it/s]\n",
      "06/03/2020 20:06:53 - INFO - korquad_metrics -   Writing predictions to: temp/predictions_.json\n",
      "06/03/2020 20:06:53 - INFO - korquad_metrics -   Writing nbest to: temp/nbest_predictions_.json\n"
     ]
    },
    {
     "name": "stdout",
     "output_type": "stream",
     "text": [
      "EXAMPLE 변환시간 :  0.0065860748291015625\n"
     ]
    },
    {
     "name": "stderr",
     "output_type": "stream",
     "text": [
      "convert squad examples to features: 100%|██████████| 1/1 [00:00<00:00,  3.47it/s]\n",
      "add example index and unique id: 100%|██████████| 1/1 [00:00<00:00, 4266.84it/s]\n",
      "Evaluating:   6%|▋         | 2/31 [00:00<00:01, 15.50it/s]"
     ]
    },
    {
     "name": "stdout",
     "output_type": "stream",
     "text": [
      "CONVERT에 걸린시간 :  0.47928309440612793\n"
     ]
    },
    {
     "name": "stderr",
     "output_type": "stream",
     "text": [
      "Evaluating: 100%|██████████| 31/31 [00:01<00:00, 17.64it/s]\n",
      "06/03/2020 20:06:57 - INFO - korquad_metrics -   Writing predictions to: temp/predictions_.json\n",
      "06/03/2020 20:06:57 - INFO - korquad_metrics -   Writing nbest to: temp/nbest_predictions_.json\n"
     ]
    },
    {
     "name": "stdout",
     "output_type": "stream",
     "text": [
      "EXAMPLE 변환시간 :  0.01908397674560547\n"
     ]
    },
    {
     "name": "stderr",
     "output_type": "stream",
     "text": [
      "convert squad examples to features: 100%|██████████| 1/1 [00:02<00:00,  2.02s/it]\n",
      "add example index and unique id: 100%|██████████| 1/1 [00:00<00:00, 2579.52it/s]\n",
      "Evaluating:   4%|▍         | 2/47 [00:00<00:02, 15.40it/s]"
     ]
    },
    {
     "name": "stdout",
     "output_type": "stream",
     "text": [
      "CONVERT에 걸린시간 :  2.289393424987793\n"
     ]
    },
    {
     "name": "stderr",
     "output_type": "stream",
     "text": [
      "Evaluating: 100%|██████████| 47/47 [00:02<00:00, 17.97it/s]\n",
      "06/03/2020 20:07:05 - INFO - korquad_metrics -   Writing predictions to: temp/predictions_.json\n",
      "06/03/2020 20:07:05 - INFO - korquad_metrics -   Writing nbest to: temp/nbest_predictions_.json\n"
     ]
    },
    {
     "name": "stdout",
     "output_type": "stream",
     "text": [
      "EXAMPLE 변환시간 :  0.011383056640625\n"
     ]
    },
    {
     "name": "stderr",
     "output_type": "stream",
     "text": [
      "convert squad examples to features: 100%|██████████| 1/1 [00:00<00:00,  1.64it/s]\n",
      "add example index and unique id: 100%|██████████| 1/1 [00:00<00:00, 4583.94it/s]\n",
      "Evaluating:   4%|▍         | 2/48 [00:00<00:03, 14.30it/s]"
     ]
    },
    {
     "name": "stdout",
     "output_type": "stream",
     "text": [
      "CONVERT에 걸린시간 :  0.897223711013794\n"
     ]
    },
    {
     "name": "stderr",
     "output_type": "stream",
     "text": [
      "Evaluating: 100%|██████████| 48/48 [00:02<00:00, 17.89it/s]\n",
      "06/03/2020 20:07:12 - INFO - korquad_metrics -   Writing predictions to: temp/predictions_.json\n",
      "06/03/2020 20:07:12 - INFO - korquad_metrics -   Writing nbest to: temp/nbest_predictions_.json\n"
     ]
    },
    {
     "name": "stdout",
     "output_type": "stream",
     "text": [
      "EXAMPLE 변환시간 :  0.013743877410888672\n"
     ]
    },
    {
     "name": "stderr",
     "output_type": "stream",
     "text": [
      "convert squad examples to features: 100%|██████████| 1/1 [00:01<00:00,  1.48s/it]\n",
      "add example index and unique id: 100%|██████████| 1/1 [00:00<00:00, 2763.05it/s]\n",
      "Evaluating:   5%|▌         | 2/39 [00:00<00:02, 15.70it/s]"
     ]
    },
    {
     "name": "stdout",
     "output_type": "stream",
     "text": [
      "CONVERT에 걸린시간 :  1.673447847366333\n"
     ]
    },
    {
     "name": "stderr",
     "output_type": "stream",
     "text": [
      "Evaluating: 100%|██████████| 39/39 [00:02<00:00, 17.81it/s]\n",
      "06/03/2020 20:07:18 - INFO - korquad_metrics -   Writing predictions to: temp/predictions_.json\n",
      "06/03/2020 20:07:18 - INFO - korquad_metrics -   Writing nbest to: temp/nbest_predictions_.json\n"
     ]
    },
    {
     "name": "stdout",
     "output_type": "stream",
     "text": [
      "EXAMPLE 변환시간 :  0.0329742431640625\n"
     ]
    },
    {
     "name": "stderr",
     "output_type": "stream",
     "text": [
      "convert squad examples to features: 100%|██████████| 1/1 [00:03<00:00,  3.04s/it]\n",
      "add example index and unique id: 100%|██████████| 1/1 [00:00<00:00, 3336.76it/s]\n",
      "Evaluating:   3%|▎         | 2/78 [00:00<00:05, 13.51it/s]"
     ]
    },
    {
     "name": "stdout",
     "output_type": "stream",
     "text": [
      "CONVERT에 걸린시간 :  3.310377836227417\n"
     ]
    },
    {
     "name": "stderr",
     "output_type": "stream",
     "text": [
      "Evaluating: 100%|██████████| 78/78 [00:04<00:00, 18.04it/s]\n",
      "06/03/2020 20:07:40 - INFO - korquad_metrics -   Writing predictions to: temp/predictions_.json\n",
      "06/03/2020 20:07:40 - INFO - korquad_metrics -   Writing nbest to: temp/nbest_predictions_.json\n"
     ]
    },
    {
     "name": "stdout",
     "output_type": "stream",
     "text": [
      "EXAMPLE 변환시간 :  0.01217198371887207\n"
     ]
    },
    {
     "name": "stderr",
     "output_type": "stream",
     "text": [
      "convert squad examples to features:   0%|          | 0/1 [00:00<?, ?it/s]Process ForkPoolWorker-534:\n",
      "Process ForkPoolWorker-529:\n",
      "Process ForkPoolWorker-535:\n",
      "Process ForkPoolWorker-532:\n",
      "Process ForkPoolWorker-536:\n",
      "Process ForkPoolWorker-531:\n",
      "Process ForkPoolWorker-533:\n",
      "Process ForkPoolWorker-530:\n",
      "Traceback (most recent call last):\n",
      "Traceback (most recent call last):\n",
      "Traceback (most recent call last):\n",
      "Traceback (most recent call last):\n",
      "Traceback (most recent call last):\n",
      "  File \"/home/dsba/anaconda3/envs/pt-py36/lib/python3.6/multiprocessing/process.py\", line 258, in _bootstrap\n",
      "    self.run()\n",
      "Traceback (most recent call last):\n",
      "  File \"/home/dsba/anaconda3/envs/pt-py36/lib/python3.6/multiprocessing/process.py\", line 258, in _bootstrap\n",
      "    self.run()\n",
      "Traceback (most recent call last):\n",
      "Traceback (most recent call last):\n",
      "  File \"/home/dsba/anaconda3/envs/pt-py36/lib/python3.6/multiprocessing/process.py\", line 258, in _bootstrap\n",
      "    self.run()\n",
      "  File \"/home/dsba/anaconda3/envs/pt-py36/lib/python3.6/multiprocessing/process.py\", line 258, in _bootstrap\n",
      "    self.run()\n",
      "  File \"/home/dsba/anaconda3/envs/pt-py36/lib/python3.6/multiprocessing/process.py\", line 258, in _bootstrap\n",
      "    self.run()\n",
      "  File \"/home/dsba/anaconda3/envs/pt-py36/lib/python3.6/multiprocessing/process.py\", line 93, in run\n",
      "    self._target(*self._args, **self._kwargs)\n",
      "  File \"/home/dsba/anaconda3/envs/pt-py36/lib/python3.6/multiprocessing/process.py\", line 258, in _bootstrap\n",
      "    self.run()\n",
      "  File \"/home/dsba/anaconda3/envs/pt-py36/lib/python3.6/multiprocessing/process.py\", line 93, in run\n",
      "    self._target(*self._args, **self._kwargs)\n",
      "  File \"/home/dsba/anaconda3/envs/pt-py36/lib/python3.6/multiprocessing/pool.py\", line 108, in worker\n",
      "    task = get()\n",
      "  File \"/home/dsba/anaconda3/envs/pt-py36/lib/python3.6/multiprocessing/process.py\", line 258, in _bootstrap\n",
      "    self.run()\n",
      "  File \"/home/dsba/anaconda3/envs/pt-py36/lib/python3.6/multiprocessing/process.py\", line 93, in run\n",
      "    self._target(*self._args, **self._kwargs)\n",
      "  File \"/home/dsba/anaconda3/envs/pt-py36/lib/python3.6/multiprocessing/process.py\", line 93, in run\n",
      "    self._target(*self._args, **self._kwargs)\n",
      "  File \"/home/dsba/anaconda3/envs/pt-py36/lib/python3.6/multiprocessing/queues.py\", line 334, in get\n",
      "    with self._rlock:\n",
      "  File \"/home/dsba/anaconda3/envs/pt-py36/lib/python3.6/multiprocessing/pool.py\", line 108, in worker\n",
      "    task = get()\n",
      "  File \"/home/dsba/anaconda3/envs/pt-py36/lib/python3.6/multiprocessing/process.py\", line 93, in run\n",
      "    self._target(*self._args, **self._kwargs)\n",
      "  File \"/home/dsba/anaconda3/envs/pt-py36/lib/python3.6/multiprocessing/process.py\", line 93, in run\n",
      "    self._target(*self._args, **self._kwargs)\n",
      "  File \"/home/dsba/anaconda3/envs/pt-py36/lib/python3.6/multiprocessing/queues.py\", line 334, in get\n",
      "    with self._rlock:\n",
      "  File \"/home/dsba/anaconda3/envs/pt-py36/lib/python3.6/multiprocessing/process.py\", line 258, in _bootstrap\n",
      "    self.run()\n",
      "  File \"/home/dsba/anaconda3/envs/pt-py36/lib/python3.6/multiprocessing/process.py\", line 93, in run\n",
      "    self._target(*self._args, **self._kwargs)\n",
      "  File \"/home/dsba/anaconda3/envs/pt-py36/lib/python3.6/multiprocessing/synchronize.py\", line 95, in __enter__\n",
      "    return self._semlock.__enter__()\n",
      "  File \"/home/dsba/anaconda3/envs/pt-py36/lib/python3.6/multiprocessing/pool.py\", line 108, in worker\n",
      "    task = get()\n",
      "  File \"/home/dsba/anaconda3/envs/pt-py36/lib/python3.6/multiprocessing/pool.py\", line 108, in worker\n",
      "    task = get()\n",
      "  File \"/home/dsba/anaconda3/envs/pt-py36/lib/python3.6/multiprocessing/pool.py\", line 108, in worker\n",
      "    task = get()\n",
      "  File \"/home/dsba/anaconda3/envs/pt-py36/lib/python3.6/multiprocessing/synchronize.py\", line 95, in __enter__\n",
      "    return self._semlock.__enter__()\n",
      "KeyboardInterrupt\n",
      "  File \"/home/dsba/anaconda3/envs/pt-py36/lib/python3.6/multiprocessing/process.py\", line 93, in run\n",
      "    self._target(*self._args, **self._kwargs)\n",
      "  File \"/home/dsba/anaconda3/envs/pt-py36/lib/python3.6/multiprocessing/queues.py\", line 335, in get\n",
      "    res = self._reader.recv_bytes()\n",
      "  File \"/home/dsba/anaconda3/envs/pt-py36/lib/python3.6/multiprocessing/queues.py\", line 334, in get\n",
      "    with self._rlock:\n",
      "  File \"/home/dsba/anaconda3/envs/pt-py36/lib/python3.6/multiprocessing/queues.py\", line 334, in get\n",
      "    with self._rlock:\n",
      "  File \"/home/dsba/anaconda3/envs/pt-py36/lib/python3.6/multiprocessing/pool.py\", line 119, in worker\n",
      "    result = (True, func(*args, **kwds))\n",
      "KeyboardInterrupt\n",
      "  File \"/home/dsba/anaconda3/envs/pt-py36/lib/python3.6/multiprocessing/connection.py\", line 216, in recv_bytes\n",
      "    buf = self._recv_bytes(maxlength)\n",
      "  File \"/home/dsba/anaconda3/envs/pt-py36/lib/python3.6/multiprocessing/pool.py\", line 44, in mapstar\n",
      "    return list(map(*args))\n",
      "  File \"/home/dsba/anaconda3/envs/pt-py36/lib/python3.6/multiprocessing/connection.py\", line 407, in _recv_bytes\n",
      "    buf = self._recv(4)\n",
      "  File \"/home/dsba/anaconda3/envs/pt-py36/lib/python3.6/multiprocessing/connection.py\", line 379, in _recv\n",
      "    chunk = read(handle, remaining)\n",
      "KeyboardInterrupt\n",
      "  File \"/home/dsba/anaconda3/envs/pt-py36/lib/python3.6/multiprocessing/pool.py\", line 108, in worker\n",
      "    task = get()\n",
      "  File \"../korquad.py\", line 150, in korquad_convert_example_to_features\n",
      "    sub_tokens = tokenizer.tokenize(token)\n",
      "  File \"/home/dsba/anaconda3/envs/pt-py36/lib/python3.6/multiprocessing/pool.py\", line 108, in worker\n",
      "    task = get()\n",
      "  File \"/home/dsba/anaconda3/envs/pt-py36/lib/python3.6/multiprocessing/synchronize.py\", line 95, in __enter__\n",
      "    return self._semlock.__enter__()\n",
      "KeyboardInterrupt\n",
      "  File \"/home/dsba/anaconda3/envs/pt-py36/lib/python3.6/multiprocessing/queues.py\", line 334, in get\n",
      "    with self._rlock:\n",
      "  File \"/home/dsba/anaconda3/envs/pt-py36/lib/python3.6/multiprocessing/synchronize.py\", line 95, in __enter__\n",
      "    return self._semlock.__enter__()\n",
      "KeyboardInterrupt\n",
      "  File \"/home/dsba/anaconda3/envs/pt-py36/lib/python3.6/multiprocessing/queues.py\", line 334, in get\n",
      "    with self._rlock:\n",
      "  File \"/home/dsba/anaconda3/envs/pt-py36/lib/python3.6/multiprocessing/synchronize.py\", line 95, in __enter__\n",
      "    return self._semlock.__enter__()\n",
      "  File \"/home/dsba/anaconda3/envs/pt-py36/lib/python3.6/multiprocessing/synchronize.py\", line 95, in __enter__\n",
      "    return self._semlock.__enter__()\n",
      "KeyboardInterrupt\n",
      "  File \"/home/dsba/anaconda3/envs/pt-py36/lib/python3.6/site-packages/transformers/tokenization_utils.py\", line 1322, in tokenize\n",
      "    tokenized_text = split_on_tokens(added_tokens, text)\n",
      "KeyboardInterrupt\n",
      "  File \"/home/dsba/anaconda3/envs/pt-py36/lib/python3.6/site-packages/transformers/tokenization_utils.py\", line 1316, in split_on_tokens\n",
      "    for token in tokenized_text\n",
      "  File \"/home/dsba/anaconda3/envs/pt-py36/lib/python3.6/site-packages/transformers/tokenization_utils.py\", line 1316, in <genexpr>\n",
      "    for token in tokenized_text\n",
      "  File \"/home/dsba/anaconda3/envs/pt-py36/lib/python3.6/site-packages/transformers/tokenization_bert.py\", line 210, in _tokenize\n",
      "    for token in self.basic_tokenizer.tokenize(text, never_split=self.all_special_tokens):\n",
      "  File \"/home/dsba/anaconda3/envs/pt-py36/lib/python3.6/site-packages/transformers/tokenization_bert.py\", line 395, in tokenize\n",
      "    split_tokens.extend(self._run_split_on_punc(token, never_split))\n",
      "  File \"/home/dsba/anaconda3/envs/pt-py36/lib/python3.6/site-packages/transformers/tokenization_bert.py\", line 431, in _run_split_on_punc\n",
      "    return [\"\".join(x) for x in output]\n",
      "KeyboardInterrupt\n"
     ]
    },
    {
     "ename": "KeyboardInterrupt",
     "evalue": "",
     "output_type": "error",
     "traceback": [
      "\u001b[0;31m---------------------------------------------------------------------------\u001b[0m",
      "\u001b[0;31mIndexError\u001b[0m                                Traceback (most recent call last)",
      "\u001b[0;32m~/anaconda3/envs/pt-py36/lib/python3.6/multiprocessing/pool.py\u001b[0m in \u001b[0;36mnext\u001b[0;34m(self, timeout)\u001b[0m\n\u001b[1;32m    719\u001b[0m             \u001b[0;32mtry\u001b[0m\u001b[0;34m:\u001b[0m\u001b[0;34m\u001b[0m\u001b[0;34m\u001b[0m\u001b[0m\n\u001b[0;32m--> 720\u001b[0;31m                 \u001b[0mitem\u001b[0m \u001b[0;34m=\u001b[0m \u001b[0mself\u001b[0m\u001b[0;34m.\u001b[0m\u001b[0m_items\u001b[0m\u001b[0;34m.\u001b[0m\u001b[0mpopleft\u001b[0m\u001b[0;34m(\u001b[0m\u001b[0;34m)\u001b[0m\u001b[0;34m\u001b[0m\u001b[0;34m\u001b[0m\u001b[0m\n\u001b[0m\u001b[1;32m    721\u001b[0m             \u001b[0;32mexcept\u001b[0m \u001b[0mIndexError\u001b[0m\u001b[0;34m:\u001b[0m\u001b[0;34m\u001b[0m\u001b[0;34m\u001b[0m\u001b[0m\n",
      "\u001b[0;31mIndexError\u001b[0m: pop from an empty deque",
      "\nDuring handling of the above exception, another exception occurred:\n",
      "\u001b[0;31mKeyboardInterrupt\u001b[0m                         Traceback (most recent call last)",
      "\u001b[0;32m~/gitRepo/korean-question-answer-system/korquad.py\u001b[0m in \u001b[0;36mkorquad_convert_examples_to_features\u001b[0;34m(examples, tokenizer, max_seq_length, doc_stride, max_query_length, is_training, return_dataset, threads)\u001b[0m\n\u001b[1;32m     75\u001b[0m                 \u001b[0mtotal\u001b[0m\u001b[0;34m=\u001b[0m\u001b[0mlen\u001b[0m\u001b[0;34m(\u001b[0m\u001b[0mexamples\u001b[0m\u001b[0;34m)\u001b[0m\u001b[0;34m,\u001b[0m\u001b[0;34m\u001b[0m\u001b[0;34m\u001b[0m\u001b[0m\n\u001b[0;32m---> 76\u001b[0;31m                 \u001b[0mdesc\u001b[0m\u001b[0;34m=\u001b[0m\u001b[0;34m\"convert squad examples to features\"\u001b[0m\u001b[0;34m,\u001b[0m\u001b[0;34m\u001b[0m\u001b[0;34m\u001b[0m\u001b[0m\n\u001b[0m\u001b[1;32m     77\u001b[0m             )\n",
      "\u001b[0;32m~/anaconda3/envs/pt-py36/lib/python3.6/site-packages/tqdm/std.py\u001b[0m in \u001b[0;36m__iter__\u001b[0;34m(self)\u001b[0m\n\u001b[1;32m   1106\u001b[0m \u001b[0;34m\u001b[0m\u001b[0m\n\u001b[0;32m-> 1107\u001b[0;31m         \u001b[0;32mfor\u001b[0m \u001b[0mobj\u001b[0m \u001b[0;32min\u001b[0m \u001b[0miterable\u001b[0m\u001b[0;34m:\u001b[0m\u001b[0;34m\u001b[0m\u001b[0;34m\u001b[0m\u001b[0m\n\u001b[0m\u001b[1;32m   1108\u001b[0m             \u001b[0;32myield\u001b[0m \u001b[0mobj\u001b[0m\u001b[0;34m\u001b[0m\u001b[0;34m\u001b[0m\u001b[0m\n",
      "\u001b[0;32m~/anaconda3/envs/pt-py36/lib/python3.6/multiprocessing/pool.py\u001b[0m in \u001b[0;36m<genexpr>\u001b[0;34m(.0)\u001b[0m\n\u001b[1;32m    319\u001b[0m                 ))\n\u001b[0;32m--> 320\u001b[0;31m             \u001b[0;32mreturn\u001b[0m \u001b[0;34m(\u001b[0m\u001b[0mitem\u001b[0m \u001b[0;32mfor\u001b[0m \u001b[0mchunk\u001b[0m \u001b[0;32min\u001b[0m \u001b[0mresult\u001b[0m \u001b[0;32mfor\u001b[0m \u001b[0mitem\u001b[0m \u001b[0;32min\u001b[0m \u001b[0mchunk\u001b[0m\u001b[0;34m)\u001b[0m\u001b[0;34m\u001b[0m\u001b[0;34m\u001b[0m\u001b[0m\n\u001b[0m\u001b[1;32m    321\u001b[0m \u001b[0;34m\u001b[0m\u001b[0m\n",
      "\u001b[0;32m~/anaconda3/envs/pt-py36/lib/python3.6/multiprocessing/pool.py\u001b[0m in \u001b[0;36mnext\u001b[0;34m(self, timeout)\u001b[0m\n\u001b[1;32m    723\u001b[0m                     \u001b[0;32mraise\u001b[0m \u001b[0mStopIteration\u001b[0m\u001b[0;34m\u001b[0m\u001b[0;34m\u001b[0m\u001b[0m\n\u001b[0;32m--> 724\u001b[0;31m                 \u001b[0mself\u001b[0m\u001b[0;34m.\u001b[0m\u001b[0m_cond\u001b[0m\u001b[0;34m.\u001b[0m\u001b[0mwait\u001b[0m\u001b[0;34m(\u001b[0m\u001b[0mtimeout\u001b[0m\u001b[0;34m)\u001b[0m\u001b[0;34m\u001b[0m\u001b[0;34m\u001b[0m\u001b[0m\n\u001b[0m\u001b[1;32m    725\u001b[0m                 \u001b[0;32mtry\u001b[0m\u001b[0;34m:\u001b[0m\u001b[0;34m\u001b[0m\u001b[0;34m\u001b[0m\u001b[0m\n",
      "\u001b[0;32m~/anaconda3/envs/pt-py36/lib/python3.6/threading.py\u001b[0m in \u001b[0;36mwait\u001b[0;34m(self, timeout)\u001b[0m\n\u001b[1;32m    294\u001b[0m             \u001b[0;32mif\u001b[0m \u001b[0mtimeout\u001b[0m \u001b[0;32mis\u001b[0m \u001b[0;32mNone\u001b[0m\u001b[0;34m:\u001b[0m\u001b[0;34m\u001b[0m\u001b[0;34m\u001b[0m\u001b[0m\n\u001b[0;32m--> 295\u001b[0;31m                 \u001b[0mwaiter\u001b[0m\u001b[0;34m.\u001b[0m\u001b[0macquire\u001b[0m\u001b[0;34m(\u001b[0m\u001b[0;34m)\u001b[0m\u001b[0;34m\u001b[0m\u001b[0;34m\u001b[0m\u001b[0m\n\u001b[0m\u001b[1;32m    296\u001b[0m                 \u001b[0mgotit\u001b[0m \u001b[0;34m=\u001b[0m \u001b[0;32mTrue\u001b[0m\u001b[0;34m\u001b[0m\u001b[0;34m\u001b[0m\u001b[0m\n",
      "\u001b[0;31mKeyboardInterrupt\u001b[0m: ",
      "\nDuring handling of the above exception, another exception occurred:\n",
      "\u001b[0;31mKeyboardInterrupt\u001b[0m                         Traceback (most recent call last)",
      "\u001b[0;32m<ipython-input-19-c39d26685fa4>\u001b[0m in \u001b[0;36m<module>\u001b[0;34m\u001b[0m\n\u001b[1;32m      9\u001b[0m         \u001b[0;31m## Load QNA model\u001b[0m\u001b[0;34m\u001b[0m\u001b[0;34m\u001b[0m\u001b[0;34m\u001b[0m\u001b[0m\n\u001b[1;32m     10\u001b[0m         \u001b[0mqna_model\u001b[0m \u001b[0;34m=\u001b[0m \u001b[0mQuestionAnswerResponsor\u001b[0m\u001b[0;34m(\u001b[0m\u001b[0;34m\"../\"\u001b[0m \u001b[0;34m+\u001b[0m \u001b[0mtemp_path\u001b[0m\u001b[0;34m)\u001b[0m\u001b[0;34m\u001b[0m\u001b[0;34m\u001b[0m\u001b[0m\n\u001b[0;32m---> 11\u001b[0;31m         \u001b[0mtest_df\u001b[0m\u001b[0;34m[\u001b[0m\u001b[0;34m'contents_1'\u001b[0m\u001b[0;34m]\u001b[0m \u001b[0;34m=\u001b[0m \u001b[0mtest_df\u001b[0m\u001b[0;34m.\u001b[0m\u001b[0mapply\u001b[0m\u001b[0;34m(\u001b[0m\u001b[0;32mlambda\u001b[0m \u001b[0mrow\u001b[0m\u001b[0;34m:\u001b[0m \u001b[0mfind_answer\u001b[0m\u001b[0;34m(\u001b[0m\u001b[0mrow\u001b[0m\u001b[0;34m[\u001b[0m\u001b[0;34m'question'\u001b[0m\u001b[0;34m]\u001b[0m\u001b[0;34m,\u001b[0m \u001b[0mqna_model\u001b[0m\u001b[0;34m,\u001b[0m \u001b[0;36m1\u001b[0m\u001b[0;34m,\u001b[0m \u001b[0mwiki_converter\u001b[0m\u001b[0;34m,\u001b[0m \u001b[0mblog_converter\u001b[0m\u001b[0;34m)\u001b[0m\u001b[0;34m,\u001b[0m \u001b[0maxis\u001b[0m\u001b[0;34m=\u001b[0m\u001b[0;36m1\u001b[0m\u001b[0;34m)\u001b[0m\u001b[0;34m\u001b[0m\u001b[0;34m\u001b[0m\u001b[0m\n\u001b[0m\u001b[1;32m     12\u001b[0m         \u001b[0mtest_df\u001b[0m\u001b[0;34m[\u001b[0m\u001b[0;34m'contents_5'\u001b[0m\u001b[0;34m]\u001b[0m \u001b[0;34m=\u001b[0m \u001b[0mtest_df\u001b[0m\u001b[0;34m.\u001b[0m\u001b[0mapply\u001b[0m\u001b[0;34m(\u001b[0m\u001b[0;32mlambda\u001b[0m \u001b[0mrow\u001b[0m\u001b[0;34m:\u001b[0m \u001b[0mfind_answer\u001b[0m\u001b[0;34m(\u001b[0m\u001b[0mrow\u001b[0m\u001b[0;34m[\u001b[0m\u001b[0;34m'question'\u001b[0m\u001b[0;34m]\u001b[0m\u001b[0;34m,\u001b[0m \u001b[0mqna_model\u001b[0m\u001b[0;34m,\u001b[0m \u001b[0;36m1\u001b[0m\u001b[0;34m,\u001b[0m \u001b[0mwiki_converter\u001b[0m\u001b[0;34m,\u001b[0m \u001b[0mblog_converter\u001b[0m\u001b[0;34m)\u001b[0m\u001b[0;34m,\u001b[0m \u001b[0maxis\u001b[0m\u001b[0;34m=\u001b[0m\u001b[0;36m5\u001b[0m\u001b[0;34m)\u001b[0m\u001b[0;34m\u001b[0m\u001b[0;34m\u001b[0m\u001b[0m\n\u001b[1;32m     13\u001b[0m \u001b[0;34m\u001b[0m\u001b[0m\n",
      "\u001b[0;32m~/anaconda3/envs/pt-py36/lib/python3.6/site-packages/pandas/core/frame.py\u001b[0m in \u001b[0;36mapply\u001b[0;34m(self, func, axis, raw, result_type, args, **kwds)\u001b[0m\n\u001b[1;32m   6876\u001b[0m             \u001b[0mkwds\u001b[0m\u001b[0;34m=\u001b[0m\u001b[0mkwds\u001b[0m\u001b[0;34m,\u001b[0m\u001b[0;34m\u001b[0m\u001b[0;34m\u001b[0m\u001b[0m\n\u001b[1;32m   6877\u001b[0m         )\n\u001b[0;32m-> 6878\u001b[0;31m         \u001b[0;32mreturn\u001b[0m \u001b[0mop\u001b[0m\u001b[0;34m.\u001b[0m\u001b[0mget_result\u001b[0m\u001b[0;34m(\u001b[0m\u001b[0;34m)\u001b[0m\u001b[0;34m\u001b[0m\u001b[0;34m\u001b[0m\u001b[0m\n\u001b[0m\u001b[1;32m   6879\u001b[0m \u001b[0;34m\u001b[0m\u001b[0m\n\u001b[1;32m   6880\u001b[0m     \u001b[0;32mdef\u001b[0m \u001b[0mapplymap\u001b[0m\u001b[0;34m(\u001b[0m\u001b[0mself\u001b[0m\u001b[0;34m,\u001b[0m \u001b[0mfunc\u001b[0m\u001b[0;34m)\u001b[0m \u001b[0;34m->\u001b[0m \u001b[0;34m\"DataFrame\"\u001b[0m\u001b[0;34m:\u001b[0m\u001b[0;34m\u001b[0m\u001b[0;34m\u001b[0m\u001b[0m\n",
      "\u001b[0;32m~/anaconda3/envs/pt-py36/lib/python3.6/site-packages/pandas/core/apply.py\u001b[0m in \u001b[0;36mget_result\u001b[0;34m(self)\u001b[0m\n\u001b[1;32m    184\u001b[0m             \u001b[0;32mreturn\u001b[0m \u001b[0mself\u001b[0m\u001b[0;34m.\u001b[0m\u001b[0mapply_raw\u001b[0m\u001b[0;34m(\u001b[0m\u001b[0;34m)\u001b[0m\u001b[0;34m\u001b[0m\u001b[0;34m\u001b[0m\u001b[0m\n\u001b[1;32m    185\u001b[0m \u001b[0;34m\u001b[0m\u001b[0m\n\u001b[0;32m--> 186\u001b[0;31m         \u001b[0;32mreturn\u001b[0m \u001b[0mself\u001b[0m\u001b[0;34m.\u001b[0m\u001b[0mapply_standard\u001b[0m\u001b[0;34m(\u001b[0m\u001b[0;34m)\u001b[0m\u001b[0;34m\u001b[0m\u001b[0;34m\u001b[0m\u001b[0m\n\u001b[0m\u001b[1;32m    187\u001b[0m \u001b[0;34m\u001b[0m\u001b[0m\n\u001b[1;32m    188\u001b[0m     \u001b[0;32mdef\u001b[0m \u001b[0mapply_empty_result\u001b[0m\u001b[0;34m(\u001b[0m\u001b[0mself\u001b[0m\u001b[0;34m)\u001b[0m\u001b[0;34m:\u001b[0m\u001b[0;34m\u001b[0m\u001b[0;34m\u001b[0m\u001b[0m\n",
      "\u001b[0;32m~/anaconda3/envs/pt-py36/lib/python3.6/site-packages/pandas/core/apply.py\u001b[0m in \u001b[0;36mapply_standard\u001b[0;34m(self)\u001b[0m\n\u001b[1;32m    294\u001b[0m             \u001b[0;32mtry\u001b[0m\u001b[0;34m:\u001b[0m\u001b[0;34m\u001b[0m\u001b[0;34m\u001b[0m\u001b[0m\n\u001b[1;32m    295\u001b[0m                 result = libreduction.compute_reduction(\n\u001b[0;32m--> 296\u001b[0;31m                     \u001b[0mvalues\u001b[0m\u001b[0;34m,\u001b[0m \u001b[0mself\u001b[0m\u001b[0;34m.\u001b[0m\u001b[0mf\u001b[0m\u001b[0;34m,\u001b[0m \u001b[0maxis\u001b[0m\u001b[0;34m=\u001b[0m\u001b[0mself\u001b[0m\u001b[0;34m.\u001b[0m\u001b[0maxis\u001b[0m\u001b[0;34m,\u001b[0m \u001b[0mdummy\u001b[0m\u001b[0;34m=\u001b[0m\u001b[0mdummy\u001b[0m\u001b[0;34m,\u001b[0m \u001b[0mlabels\u001b[0m\u001b[0;34m=\u001b[0m\u001b[0mlabels\u001b[0m\u001b[0;34m\u001b[0m\u001b[0;34m\u001b[0m\u001b[0m\n\u001b[0m\u001b[1;32m    297\u001b[0m                 )\n\u001b[1;32m    298\u001b[0m             \u001b[0;32mexcept\u001b[0m \u001b[0mValueError\u001b[0m \u001b[0;32mas\u001b[0m \u001b[0merr\u001b[0m\u001b[0;34m:\u001b[0m\u001b[0;34m\u001b[0m\u001b[0;34m\u001b[0m\u001b[0m\n",
      "\u001b[0;32mpandas/_libs/reduction.pyx\u001b[0m in \u001b[0;36mpandas._libs.reduction.compute_reduction\u001b[0;34m()\u001b[0m\n",
      "\u001b[0;32mpandas/_libs/reduction.pyx\u001b[0m in \u001b[0;36mpandas._libs.reduction.Reducer.get_result\u001b[0;34m()\u001b[0m\n",
      "\u001b[0;32m<ipython-input-19-c39d26685fa4>\u001b[0m in \u001b[0;36m<lambda>\u001b[0;34m(row)\u001b[0m\n\u001b[1;32m      9\u001b[0m         \u001b[0;31m## Load QNA model\u001b[0m\u001b[0;34m\u001b[0m\u001b[0;34m\u001b[0m\u001b[0;34m\u001b[0m\u001b[0m\n\u001b[1;32m     10\u001b[0m         \u001b[0mqna_model\u001b[0m \u001b[0;34m=\u001b[0m \u001b[0mQuestionAnswerResponsor\u001b[0m\u001b[0;34m(\u001b[0m\u001b[0;34m\"../\"\u001b[0m \u001b[0;34m+\u001b[0m \u001b[0mtemp_path\u001b[0m\u001b[0;34m)\u001b[0m\u001b[0;34m\u001b[0m\u001b[0;34m\u001b[0m\u001b[0m\n\u001b[0;32m---> 11\u001b[0;31m         \u001b[0mtest_df\u001b[0m\u001b[0;34m[\u001b[0m\u001b[0;34m'contents_1'\u001b[0m\u001b[0;34m]\u001b[0m \u001b[0;34m=\u001b[0m \u001b[0mtest_df\u001b[0m\u001b[0;34m.\u001b[0m\u001b[0mapply\u001b[0m\u001b[0;34m(\u001b[0m\u001b[0;32mlambda\u001b[0m \u001b[0mrow\u001b[0m\u001b[0;34m:\u001b[0m \u001b[0mfind_answer\u001b[0m\u001b[0;34m(\u001b[0m\u001b[0mrow\u001b[0m\u001b[0;34m[\u001b[0m\u001b[0;34m'question'\u001b[0m\u001b[0;34m]\u001b[0m\u001b[0;34m,\u001b[0m \u001b[0mqna_model\u001b[0m\u001b[0;34m,\u001b[0m \u001b[0;36m1\u001b[0m\u001b[0;34m,\u001b[0m \u001b[0mwiki_converter\u001b[0m\u001b[0;34m,\u001b[0m \u001b[0mblog_converter\u001b[0m\u001b[0;34m)\u001b[0m\u001b[0;34m,\u001b[0m \u001b[0maxis\u001b[0m\u001b[0;34m=\u001b[0m\u001b[0;36m1\u001b[0m\u001b[0;34m)\u001b[0m\u001b[0;34m\u001b[0m\u001b[0;34m\u001b[0m\u001b[0m\n\u001b[0m\u001b[1;32m     12\u001b[0m         \u001b[0mtest_df\u001b[0m\u001b[0;34m[\u001b[0m\u001b[0;34m'contents_5'\u001b[0m\u001b[0;34m]\u001b[0m \u001b[0;34m=\u001b[0m \u001b[0mtest_df\u001b[0m\u001b[0;34m.\u001b[0m\u001b[0mapply\u001b[0m\u001b[0;34m(\u001b[0m\u001b[0;32mlambda\u001b[0m \u001b[0mrow\u001b[0m\u001b[0;34m:\u001b[0m \u001b[0mfind_answer\u001b[0m\u001b[0;34m(\u001b[0m\u001b[0mrow\u001b[0m\u001b[0;34m[\u001b[0m\u001b[0;34m'question'\u001b[0m\u001b[0;34m]\u001b[0m\u001b[0;34m,\u001b[0m \u001b[0mqna_model\u001b[0m\u001b[0;34m,\u001b[0m \u001b[0;36m1\u001b[0m\u001b[0;34m,\u001b[0m \u001b[0mwiki_converter\u001b[0m\u001b[0;34m,\u001b[0m \u001b[0mblog_converter\u001b[0m\u001b[0;34m)\u001b[0m\u001b[0;34m,\u001b[0m \u001b[0maxis\u001b[0m\u001b[0;34m=\u001b[0m\u001b[0;36m5\u001b[0m\u001b[0;34m)\u001b[0m\u001b[0;34m\u001b[0m\u001b[0;34m\u001b[0m\u001b[0m\n\u001b[1;32m     13\u001b[0m \u001b[0;34m\u001b[0m\u001b[0m\n",
      "\u001b[0;32m<ipython-input-18-b3b336125d41>\u001b[0m in \u001b[0;36mfind_answer\u001b[0;34m(question, qna_model, num_contents, wiki_converter, blog_converter)\u001b[0m\n\u001b[1;32m     12\u001b[0m     \u001b[0mresult\u001b[0m \u001b[0;34m=\u001b[0m \u001b[0;34m''\u001b[0m\u001b[0;34m\u001b[0m\u001b[0;34m\u001b[0m\u001b[0m\n\u001b[1;32m     13\u001b[0m     \u001b[0;32mif\u001b[0m \u001b[0mlen\u001b[0m\u001b[0;34m(\u001b[0m\u001b[0mparagraphs\u001b[0m\u001b[0;34m)\u001b[0m \u001b[0;34m>\u001b[0m \u001b[0;36m0\u001b[0m\u001b[0;34m:\u001b[0m\u001b[0;34m\u001b[0m\u001b[0;34m\u001b[0m\u001b[0m\n\u001b[0;32m---> 14\u001b[0;31m         \u001b[0mresult\u001b[0m \u001b[0;34m=\u001b[0m \u001b[0mqna_model\u001b[0m\u001b[0;34m.\u001b[0m\u001b[0mget_answers\u001b[0m\u001b[0;34m(\u001b[0m\u001b[0mquestion\u001b[0m\u001b[0;34m,\u001b[0m \u001b[0mparagraphs\u001b[0m\u001b[0;34m)\u001b[0m\u001b[0;34m\u001b[0m\u001b[0;34m\u001b[0m\u001b[0m\n\u001b[0m\u001b[1;32m     15\u001b[0m     \u001b[0;32mreturn\u001b[0m \u001b[0mresult\u001b[0m\u001b[0;34m\u001b[0m\u001b[0;34m\u001b[0m\u001b[0m\n",
      "\u001b[0;32m~/gitRepo/korean-question-answer-system/qna_adaptor.py\u001b[0m in \u001b[0;36mget_answers\u001b[0;34m(self, question, paragraphs)\u001b[0m\n\u001b[1;32m     96\u001b[0m \u001b[0;34m\u001b[0m\u001b[0m\n\u001b[1;32m     97\u001b[0m         \u001b[0mstart_time\u001b[0m \u001b[0;34m=\u001b[0m \u001b[0mtime\u001b[0m\u001b[0;34m.\u001b[0m\u001b[0mtime\u001b[0m\u001b[0;34m(\u001b[0m\u001b[0;34m)\u001b[0m\u001b[0;34m\u001b[0m\u001b[0;34m\u001b[0m\u001b[0m\n\u001b[0;32m---> 98\u001b[0;31m         \u001b[0mdataset\u001b[0m\u001b[0;34m,\u001b[0m \u001b[0mexamples\u001b[0m\u001b[0;34m,\u001b[0m \u001b[0mfeatures\u001b[0m \u001b[0;34m=\u001b[0m \u001b[0mconvert_format\u001b[0m\u001b[0;34m(\u001b[0m\u001b[0mquestion\u001b[0m\u001b[0;34m,\u001b[0m \u001b[0mparagraphs\u001b[0m\u001b[0;34m,\u001b[0m \u001b[0mself\u001b[0m\u001b[0;34m.\u001b[0m\u001b[0mtokenizer\u001b[0m\u001b[0;34m,\u001b[0m \u001b[0mself\u001b[0m\u001b[0;34m.\u001b[0m\u001b[0margs\u001b[0m\u001b[0;34m)\u001b[0m\u001b[0;34m\u001b[0m\u001b[0;34m\u001b[0m\u001b[0m\n\u001b[0m\u001b[1;32m     99\u001b[0m         \u001b[0mprint\u001b[0m\u001b[0;34m(\u001b[0m\u001b[0;34m\"CONVERT에 걸린시간 : \"\u001b[0m\u001b[0;34m,\u001b[0m \u001b[0mtime\u001b[0m\u001b[0;34m.\u001b[0m\u001b[0mtime\u001b[0m\u001b[0;34m(\u001b[0m\u001b[0;34m)\u001b[0m\u001b[0;34m-\u001b[0m\u001b[0mstart_time\u001b[0m\u001b[0;34m)\u001b[0m\u001b[0;34m\u001b[0m\u001b[0;34m\u001b[0m\u001b[0m\n\u001b[1;32m    100\u001b[0m \u001b[0;34m\u001b[0m\u001b[0m\n",
      "\u001b[0;32m~/gitRepo/korean-question-answer-system/qna_adaptor.py\u001b[0m in \u001b[0;36mconvert_format\u001b[0;34m(question, paragraphs, tokenizer, args)\u001b[0m\n\u001b[1;32m    183\u001b[0m         \u001b[0mis_training\u001b[0m\u001b[0;34m=\u001b[0m\u001b[0;32mnot\u001b[0m \u001b[0;32mTrue\u001b[0m\u001b[0;34m,\u001b[0m\u001b[0;34m\u001b[0m\u001b[0;34m\u001b[0m\u001b[0m\n\u001b[1;32m    184\u001b[0m         \u001b[0mreturn_dataset\u001b[0m\u001b[0;34m=\u001b[0m\u001b[0;34m\"pt\"\u001b[0m\u001b[0;34m,\u001b[0m\u001b[0;34m\u001b[0m\u001b[0;34m\u001b[0m\u001b[0m\n\u001b[0;32m--> 185\u001b[0;31m         \u001b[0mthreads\u001b[0m\u001b[0;34m=\u001b[0m\u001b[0margs\u001b[0m\u001b[0;34m.\u001b[0m\u001b[0mthreads\u001b[0m\u001b[0;34m,\u001b[0m\u001b[0;34m\u001b[0m\u001b[0;34m\u001b[0m\u001b[0m\n\u001b[0m\u001b[1;32m    186\u001b[0m     )\n\u001b[1;32m    187\u001b[0m \u001b[0;34m\u001b[0m\u001b[0m\n",
      "\u001b[0;32m~/gitRepo/korean-question-answer-system/korquad.py\u001b[0m in \u001b[0;36mkorquad_convert_examples_to_features\u001b[0;34m(examples, tokenizer, max_seq_length, doc_stride, max_query_length, is_training, return_dataset, threads)\u001b[0m\n\u001b[1;32m     74\u001b[0m                 \u001b[0mp\u001b[0m\u001b[0;34m.\u001b[0m\u001b[0mimap\u001b[0m\u001b[0;34m(\u001b[0m\u001b[0mannotate_\u001b[0m\u001b[0;34m,\u001b[0m \u001b[0mexamples\u001b[0m\u001b[0;34m,\u001b[0m \u001b[0mchunksize\u001b[0m\u001b[0;34m=\u001b[0m\u001b[0;36m32\u001b[0m\u001b[0;34m)\u001b[0m\u001b[0;34m,\u001b[0m\u001b[0;34m\u001b[0m\u001b[0;34m\u001b[0m\u001b[0m\n\u001b[1;32m     75\u001b[0m                 \u001b[0mtotal\u001b[0m\u001b[0;34m=\u001b[0m\u001b[0mlen\u001b[0m\u001b[0;34m(\u001b[0m\u001b[0mexamples\u001b[0m\u001b[0;34m)\u001b[0m\u001b[0;34m,\u001b[0m\u001b[0;34m\u001b[0m\u001b[0;34m\u001b[0m\u001b[0m\n\u001b[0;32m---> 76\u001b[0;31m                 \u001b[0mdesc\u001b[0m\u001b[0;34m=\u001b[0m\u001b[0;34m\"convert squad examples to features\"\u001b[0m\u001b[0;34m,\u001b[0m\u001b[0;34m\u001b[0m\u001b[0;34m\u001b[0m\u001b[0m\n\u001b[0m\u001b[1;32m     77\u001b[0m             )\n\u001b[1;32m     78\u001b[0m         )\n",
      "\u001b[0;32m~/anaconda3/envs/pt-py36/lib/python3.6/multiprocessing/pool.py\u001b[0m in \u001b[0;36m__exit__\u001b[0;34m(self, exc_type, exc_val, exc_tb)\u001b[0m\n\u001b[1;32m    609\u001b[0m \u001b[0;34m\u001b[0m\u001b[0m\n\u001b[1;32m    610\u001b[0m     \u001b[0;32mdef\u001b[0m \u001b[0m__exit__\u001b[0m\u001b[0;34m(\u001b[0m\u001b[0mself\u001b[0m\u001b[0;34m,\u001b[0m \u001b[0mexc_type\u001b[0m\u001b[0;34m,\u001b[0m \u001b[0mexc_val\u001b[0m\u001b[0;34m,\u001b[0m \u001b[0mexc_tb\u001b[0m\u001b[0;34m)\u001b[0m\u001b[0;34m:\u001b[0m\u001b[0;34m\u001b[0m\u001b[0;34m\u001b[0m\u001b[0m\n\u001b[0;32m--> 611\u001b[0;31m         \u001b[0mself\u001b[0m\u001b[0;34m.\u001b[0m\u001b[0mterminate\u001b[0m\u001b[0;34m(\u001b[0m\u001b[0;34m)\u001b[0m\u001b[0;34m\u001b[0m\u001b[0;34m\u001b[0m\u001b[0m\n\u001b[0m\u001b[1;32m    612\u001b[0m \u001b[0;34m\u001b[0m\u001b[0m\n\u001b[1;32m    613\u001b[0m \u001b[0;31m#\u001b[0m\u001b[0;34m\u001b[0m\u001b[0;34m\u001b[0m\u001b[0;34m\u001b[0m\u001b[0m\n",
      "\u001b[0;32m~/anaconda3/envs/pt-py36/lib/python3.6/multiprocessing/pool.py\u001b[0m in \u001b[0;36mterminate\u001b[0;34m(self)\u001b[0m\n\u001b[1;32m    539\u001b[0m         \u001b[0mself\u001b[0m\u001b[0;34m.\u001b[0m\u001b[0m_state\u001b[0m \u001b[0;34m=\u001b[0m \u001b[0mTERMINATE\u001b[0m\u001b[0;34m\u001b[0m\u001b[0;34m\u001b[0m\u001b[0m\n\u001b[1;32m    540\u001b[0m         \u001b[0mself\u001b[0m\u001b[0;34m.\u001b[0m\u001b[0m_worker_handler\u001b[0m\u001b[0;34m.\u001b[0m\u001b[0m_state\u001b[0m \u001b[0;34m=\u001b[0m \u001b[0mTERMINATE\u001b[0m\u001b[0;34m\u001b[0m\u001b[0;34m\u001b[0m\u001b[0m\n\u001b[0;32m--> 541\u001b[0;31m         \u001b[0mself\u001b[0m\u001b[0;34m.\u001b[0m\u001b[0m_terminate\u001b[0m\u001b[0;34m(\u001b[0m\u001b[0;34m)\u001b[0m\u001b[0;34m\u001b[0m\u001b[0;34m\u001b[0m\u001b[0m\n\u001b[0m\u001b[1;32m    542\u001b[0m \u001b[0;34m\u001b[0m\u001b[0m\n\u001b[1;32m    543\u001b[0m     \u001b[0;32mdef\u001b[0m \u001b[0mjoin\u001b[0m\u001b[0;34m(\u001b[0m\u001b[0mself\u001b[0m\u001b[0;34m)\u001b[0m\u001b[0;34m:\u001b[0m\u001b[0;34m\u001b[0m\u001b[0;34m\u001b[0m\u001b[0m\n",
      "\u001b[0;32m~/anaconda3/envs/pt-py36/lib/python3.6/multiprocessing/util.py\u001b[0m in \u001b[0;36m__call__\u001b[0;34m(self, wr, _finalizer_registry, sub_debug, getpid)\u001b[0m\n\u001b[1;32m    184\u001b[0m                 sub_debug('finalizer calling %s with args %s and kwargs %s',\n\u001b[1;32m    185\u001b[0m                           self._callback, self._args, self._kwargs)\n\u001b[0;32m--> 186\u001b[0;31m                 \u001b[0mres\u001b[0m \u001b[0;34m=\u001b[0m \u001b[0mself\u001b[0m\u001b[0;34m.\u001b[0m\u001b[0m_callback\u001b[0m\u001b[0;34m(\u001b[0m\u001b[0;34m*\u001b[0m\u001b[0mself\u001b[0m\u001b[0;34m.\u001b[0m\u001b[0m_args\u001b[0m\u001b[0;34m,\u001b[0m \u001b[0;34m**\u001b[0m\u001b[0mself\u001b[0m\u001b[0;34m.\u001b[0m\u001b[0m_kwargs\u001b[0m\u001b[0;34m)\u001b[0m\u001b[0;34m\u001b[0m\u001b[0;34m\u001b[0m\u001b[0m\n\u001b[0m\u001b[1;32m    187\u001b[0m             \u001b[0mself\u001b[0m\u001b[0;34m.\u001b[0m\u001b[0m_weakref\u001b[0m \u001b[0;34m=\u001b[0m \u001b[0mself\u001b[0m\u001b[0;34m.\u001b[0m\u001b[0m_callback\u001b[0m \u001b[0;34m=\u001b[0m \u001b[0mself\u001b[0m\u001b[0;34m.\u001b[0m\u001b[0m_args\u001b[0m \u001b[0;34m=\u001b[0m\u001b[0;31m \u001b[0m\u001b[0;31m\\\u001b[0m\u001b[0;34m\u001b[0m\u001b[0;34m\u001b[0m\u001b[0m\n\u001b[1;32m    188\u001b[0m                             \u001b[0mself\u001b[0m\u001b[0;34m.\u001b[0m\u001b[0m_kwargs\u001b[0m \u001b[0;34m=\u001b[0m \u001b[0mself\u001b[0m\u001b[0;34m.\u001b[0m\u001b[0m_key\u001b[0m \u001b[0;34m=\u001b[0m \u001b[0;32mNone\u001b[0m\u001b[0;34m\u001b[0m\u001b[0;34m\u001b[0m\u001b[0m\n",
      "\u001b[0;32m~/anaconda3/envs/pt-py36/lib/python3.6/multiprocessing/pool.py\u001b[0m in \u001b[0;36m_terminate_pool\u001b[0;34m(cls, taskqueue, inqueue, outqueue, pool, worker_handler, task_handler, result_handler, cache)\u001b[0m\n\u001b[1;32m    569\u001b[0m \u001b[0;34m\u001b[0m\u001b[0m\n\u001b[1;32m    570\u001b[0m         \u001b[0mutil\u001b[0m\u001b[0;34m.\u001b[0m\u001b[0mdebug\u001b[0m\u001b[0;34m(\u001b[0m\u001b[0;34m'helping task handler/workers to finish'\u001b[0m\u001b[0;34m)\u001b[0m\u001b[0;34m\u001b[0m\u001b[0;34m\u001b[0m\u001b[0m\n\u001b[0;32m--> 571\u001b[0;31m         \u001b[0mcls\u001b[0m\u001b[0;34m.\u001b[0m\u001b[0m_help_stuff_finish\u001b[0m\u001b[0;34m(\u001b[0m\u001b[0minqueue\u001b[0m\u001b[0;34m,\u001b[0m \u001b[0mtask_handler\u001b[0m\u001b[0;34m,\u001b[0m \u001b[0mlen\u001b[0m\u001b[0;34m(\u001b[0m\u001b[0mpool\u001b[0m\u001b[0;34m)\u001b[0m\u001b[0;34m)\u001b[0m\u001b[0;34m\u001b[0m\u001b[0;34m\u001b[0m\u001b[0m\n\u001b[0m\u001b[1;32m    572\u001b[0m \u001b[0;34m\u001b[0m\u001b[0m\n\u001b[1;32m    573\u001b[0m         \u001b[0;32massert\u001b[0m \u001b[0mresult_handler\u001b[0m\u001b[0;34m.\u001b[0m\u001b[0mis_alive\u001b[0m\u001b[0;34m(\u001b[0m\u001b[0;34m)\u001b[0m \u001b[0;32mor\u001b[0m \u001b[0mlen\u001b[0m\u001b[0;34m(\u001b[0m\u001b[0mcache\u001b[0m\u001b[0;34m)\u001b[0m \u001b[0;34m==\u001b[0m \u001b[0;36m0\u001b[0m\u001b[0;34m\u001b[0m\u001b[0;34m\u001b[0m\u001b[0m\n",
      "\u001b[0;32m~/anaconda3/envs/pt-py36/lib/python3.6/multiprocessing/pool.py\u001b[0m in \u001b[0;36m_help_stuff_finish\u001b[0;34m(inqueue, task_handler, size)\u001b[0m\n\u001b[1;32m    554\u001b[0m         \u001b[0;31m# task_handler may be blocked trying to put items on inqueue\u001b[0m\u001b[0;34m\u001b[0m\u001b[0;34m\u001b[0m\u001b[0;34m\u001b[0m\u001b[0m\n\u001b[1;32m    555\u001b[0m         \u001b[0mutil\u001b[0m\u001b[0;34m.\u001b[0m\u001b[0mdebug\u001b[0m\u001b[0;34m(\u001b[0m\u001b[0;34m'removing tasks from inqueue until task handler finished'\u001b[0m\u001b[0;34m)\u001b[0m\u001b[0;34m\u001b[0m\u001b[0;34m\u001b[0m\u001b[0m\n\u001b[0;32m--> 556\u001b[0;31m         \u001b[0minqueue\u001b[0m\u001b[0;34m.\u001b[0m\u001b[0m_rlock\u001b[0m\u001b[0;34m.\u001b[0m\u001b[0macquire\u001b[0m\u001b[0;34m(\u001b[0m\u001b[0;34m)\u001b[0m\u001b[0;34m\u001b[0m\u001b[0;34m\u001b[0m\u001b[0m\n\u001b[0m\u001b[1;32m    557\u001b[0m         \u001b[0;32mwhile\u001b[0m \u001b[0mtask_handler\u001b[0m\u001b[0;34m.\u001b[0m\u001b[0mis_alive\u001b[0m\u001b[0;34m(\u001b[0m\u001b[0;34m)\u001b[0m \u001b[0;32mand\u001b[0m \u001b[0minqueue\u001b[0m\u001b[0;34m.\u001b[0m\u001b[0m_reader\u001b[0m\u001b[0;34m.\u001b[0m\u001b[0mpoll\u001b[0m\u001b[0;34m(\u001b[0m\u001b[0;34m)\u001b[0m\u001b[0;34m:\u001b[0m\u001b[0;34m\u001b[0m\u001b[0;34m\u001b[0m\u001b[0m\n\u001b[1;32m    558\u001b[0m             \u001b[0minqueue\u001b[0m\u001b[0;34m.\u001b[0m\u001b[0m_reader\u001b[0m\u001b[0;34m.\u001b[0m\u001b[0mrecv\u001b[0m\u001b[0;34m(\u001b[0m\u001b[0;34m)\u001b[0m\u001b[0;34m\u001b[0m\u001b[0;34m\u001b[0m\u001b[0m\n",
      "\u001b[0;31mKeyboardInterrupt\u001b[0m: "
     ]
    }
   ],
   "source": [
    "for dataset_name, dataset_path in dataset_names.items():\n",
    "    for model_name, model_path in model_names.items():\n",
    "        print(dataset_name, model_name)\n",
    "        ## Set model_path\n",
    "        temp_path = os.path.join(dataset_path, model_path)\n",
    "        if dataset_name == 'korquad2':\n",
    "            temp_path = os.path.join(dataset_path, model_path, 'step3', '4')\n",
    "        \n",
    "        ## Load QNA model\n",
    "        qna_model = QuestionAnswerResponsor(\"../\" + temp_path)\n",
    "        test_df['contents_1'] = test_df.apply(lambda row: find_answer(row['question'], qna_model, 1, wiki_converter, blog_converter), axis=1)\n",
    "        test_df['contents_5'] = test_df.apply(lambda row: find_answer(row['question'], qna_model, 5, wiki_converter, blog_converter), axis=1)\n",
    "        \n",
    "        csv_path = os.path.join(result_path, dataset_name + '_' + model_name + '.csv')\n",
    "        test_df.to_csv(csv_path)"
   ]
  },
  {
   "cell_type": "code",
   "execution_count": null,
   "metadata": {},
   "outputs": [],
   "source": []
  },
  {
   "cell_type": "code",
   "execution_count": null,
   "metadata": {},
   "outputs": [],
   "source": []
  },
  {
   "cell_type": "code",
   "execution_count": null,
   "metadata": {},
   "outputs": [],
   "source": []
  },
  {
   "cell_type": "code",
   "execution_count": null,
   "metadata": {},
   "outputs": [],
   "source": []
  },
  {
   "cell_type": "code",
   "execution_count": null,
   "metadata": {},
   "outputs": [],
   "source": []
  },
  {
   "cell_type": "code",
   "execution_count": null,
   "metadata": {},
   "outputs": [],
   "source": [
    "## Set model_path\n",
    "model_path = 'bert_multi/'\n",
    "## 가져올 URL 갯수\n",
    "num_contents = 5\n",
    "## Load QNA model\n",
    "qna_model = QuestionAnswerResponsor(model_path)\n",
    "## Load wiki converter\n",
    "wiki_converter = Korquad2_Converter(max_paragraph_length=1)\n",
    "blog_converter = Blog_Converter(max_paragraph_length=1)"
   ]
  },
  {
   "cell_type": "code",
   "execution_count": null,
   "metadata": {},
   "outputs": [],
   "source": [
    "def find_answer(question, qna_model, num_contents):\n",
    "    wiki_contents = get_wiki_data(question, num_contents)\n",
    "    blog_contents = get_blog_data(question, num_contents)\n",
    "    paragraphs = []\n",
    "    for wiki_content in wiki_contents:\n",
    "        temp_paragraphs = wiki_converter.convert_html(wiki_content)\n",
    "        paragraphs.extend(temp_paragraphs)\n",
    "    for blog_content in blog_contents:\n",
    "        temp_paragraphs = blog_converter.convert_html(blog_content)\n",
    "        paragraphs.extend(temp_paragraphs)\n",
    "    \n",
    "    result = ''\n",
    "    if len(paragraphs) > 0:\n",
    "        result = qna_model.get_answers(question, paragraphs)\n",
    "        result = result['text-01']\n",
    "    return result"
   ]
  },
  {
   "cell_type": "code",
   "execution_count": null,
   "metadata": {},
   "outputs": [],
   "source": []
  },
  {
   "cell_type": "code",
   "execution_count": null,
   "metadata": {},
   "outputs": [],
   "source": []
  }
 ],
 "metadata": {
  "kernelspec": {
   "display_name": "Python 3",
   "language": "python",
   "name": "python3"
  },
  "language_info": {
   "codemirror_mode": {
    "name": "ipython",
    "version": 3
   },
   "file_extension": ".py",
   "mimetype": "text/x-python",
   "name": "python",
   "nbconvert_exporter": "python",
   "pygments_lexer": "ipython3",
   "version": "3.6.10"
  }
 },
 "nbformat": 4,
 "nbformat_minor": 4
}
