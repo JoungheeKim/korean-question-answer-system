{
 "cells": [
  {
   "cell_type": "markdown",
   "metadata": {},
   "source": [
    "## WIKI Q&A Test"
   ]
  },
  {
   "cell_type": "code",
   "execution_count": 1,
   "metadata": {},
   "outputs": [],
   "source": [
    "from qna_adaptor import QuestionAnswerResponsor\n",
    "from scrap import get_wiki_data, get_blog_data\n",
    "from wiki_convert import Korquad2_Converter\n",
    "from blog_convert import Blog_Converter"
   ]
  },
  {
   "cell_type": "code",
   "execution_count": 2,
   "metadata": {},
   "outputs": [],
   "source": [
    "## Set model_path\n",
    "model_path = 'aihub_model/kobert'\n",
    "## 가져올 URL 갯수\n",
    "num_contents = 5"
   ]
  },
  {
   "cell_type": "code",
   "execution_count": 3,
   "metadata": {},
   "outputs": [],
   "source": [
    "## Load QNA model\n",
    "qna_model = QuestionAnswerResponsor(model_path)\n",
    "\n",
    "## Load wiki converter\n",
    "wiki_converter = Korquad2_Converter(max_paragraph_length=1)\n",
    "blog_converter = Blog_Converter(max_paragraph_length=1)"
   ]
  },
  {
   "cell_type": "markdown",
   "metadata": {},
   "source": [
    "### 질문 넣기"
   ]
  },
  {
   "cell_type": "code",
   "execution_count": 4,
   "metadata": {},
   "outputs": [],
   "source": [
    "question = 'BERT 모델이란 무엇인가?'"
   ]
  },
  {
   "cell_type": "code",
   "execution_count": 5,
   "metadata": {},
   "outputs": [
    {
     "name": "stdout",
     "output_type": "stream",
     "text": [
      "EXAMPLE 변환시간 :  0.06193709373474121\n"
     ]
    },
    {
     "name": "stderr",
     "output_type": "stream",
     "text": [
      "convert squad examples to features: 100%|████████████████████████████████████████████████| 1/1 [00:03<00:00,  3.77s/it]\n",
      "add example index and unique id: 100%|██████████████████████████████████████████████████| 1/1 [00:00<00:00, 999.36it/s]\n",
      "Evaluating:   0%|                                                                               | 0/91 [00:00<?, ?it/s]"
     ]
    },
    {
     "name": "stdout",
     "output_type": "stream",
     "text": [
      "CONVERT에 걸린시간 :  16.008475065231323\n"
     ]
    },
    {
     "name": "stderr",
     "output_type": "stream",
     "text": [
      "Evaluating: 100%|██████████████████████████████████████████████████████████████████████| 91/91 [00:08<00:00, 11.22it/s]\n",
      "06/03/2020 19:05:34 - INFO - korquad_metrics -   Writing predictions to: temp\\predictions_.json\n",
      "06/03/2020 19:05:34 - INFO - korquad_metrics -   Writing nbest to: temp\\nbest_predictions_.json\n"
     ]
    },
    {
     "name": "stdout",
     "output_type": "stream",
     "text": [
      "YES Answer\n"
     ]
    }
   ],
   "source": [
    "paragraphs = []\n",
    "wiki_contents = get_wiki_data(question, num_contents)\n",
    "blog_contents = get_blog_data(question, num_contents)\n",
    "for wiki_content in wiki_contents:\n",
    "    temp_paragraphs = wiki_converter.convert_html(wiki_content)\n",
    "    paragraphs.extend(temp_paragraphs)\n",
    "for blog_content in blog_contents:\n",
    "    temp_paragraphs = blog_converter.convert_html(blog_content)\n",
    "    paragraphs.extend(temp_paragraphs)\n",
    "if len(paragraphs) > 0:\n",
    "    results = qna_model.get_answers(question, paragraphs)\n",
    "    print(\"YES Answer\")\n",
    "else:\n",
    "    print(\"NOoooooooooooooooooo Answer\")"
   ]
  },
  {
   "cell_type": "code",
   "execution_count": 6,
   "metadata": {},
   "outputs": [
    {
     "data": {
      "text/plain": [
       "\"'이전 문맥을 바탕으로 다음단어를 예측하는 과정에서의 학습' 방법이죠.\""
      ]
     },
     "execution_count": 6,
     "metadata": {},
     "output_type": "execute_result"
    }
   ],
   "source": [
    "results"
   ]
  }
 ],
 "metadata": {
  "kernelspec": {
   "display_name": "Pytorch Python 3.6 (conda env)",
   "language": "python",
   "name": "pt-py36"
  },
  "language_info": {
   "codemirror_mode": {
    "name": "ipython",
    "version": 3
   },
   "file_extension": ".py",
   "mimetype": "text/x-python",
   "name": "python",
   "nbconvert_exporter": "python",
   "pygments_lexer": "ipython3",
   "version": "3.6.10"
  }
 },
 "nbformat": 4,
 "nbformat_minor": 4
}
