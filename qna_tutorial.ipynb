{
 "cells": [
  {
   "cell_type": "code",
   "execution_count": 1,
   "metadata": {},
   "outputs": [],
   "source": [
    "from qna_adaptor import QuestionAnswerResponsor\n",
    "from scrap import get_wiki_data\n",
    "from convert import Korquad2_Converter"
   ]
  },
  {
   "cell_type": "code",
   "execution_count": 2,
   "metadata": {},
   "outputs": [],
   "source": [
    "## Set model_path\n",
    "model_path = 'bert_multi/'\n",
    "\n",
    "## 가져올 URL 갯수\n",
    "num_contents = 5"
   ]
  },
  {
   "cell_type": "code",
   "execution_count": 3,
   "metadata": {},
   "outputs": [],
   "source": [
    "## Load QNA model\n",
    "qna_model = QuestionAnswerResponsor(model_path)\n",
    "\n",
    "## Load wiki converter\n",
    "converter = Korquad2_Converter()"
   ]
  },
  {
   "cell_type": "markdown",
   "metadata": {},
   "source": [
    "### 질문 넣기"
   ]
  },
  {
   "cell_type": "code",
   "execution_count": 8,
   "metadata": {},
   "outputs": [],
   "source": [
    "question = '한글을 만든 사람은 누구인가?'"
   ]
  },
  {
   "cell_type": "code",
   "execution_count": 9,
   "metadata": {},
   "outputs": [
    {
     "name": "stderr",
     "output_type": "stream",
     "text": [
      "convert squad examples to features: 100%|████████████████████████████████████████████████| 1/1 [00:00<00:00,  1.58it/s]\n",
      "add example index and unique id: 100%|███████████████████████████████████████████████████████████| 1/1 [00:00<?, ?it/s]\n",
      "Evaluating: 100%|██████████████████████████████████████████████████████████████████████| 65/65 [00:03<00:00, 19.71it/s]\n",
      "05/21/2020 19:36:02 - INFO - korquad_metrics -   Writing predictions to: temp\\predictions_.json\n",
      "05/21/2020 19:36:02 - INFO - korquad_metrics -   Writing nbest to: temp\\nbest_predictions_.json\n"
     ]
    }
   ],
   "source": [
    "contents = get_wiki_data(question, num_contents)\n",
    "paragraphs = []\n",
    "for content in contents:\n",
    "    temp_paragraphs = converter.convert_html(content)\n",
    "    paragraphs.extend(temp_paragraphs)\n",
    "results = qna_model.get_answers(question, paragraphs)"
   ]
  },
  {
   "cell_type": "code",
   "execution_count": 10,
   "metadata": {},
   "outputs": [
    {
     "data": {
      "text/plain": [
       "OrderedDict([('text-01', '훈민정음 해례본')])"
      ]
     },
     "execution_count": 10,
     "metadata": {},
     "output_type": "execute_result"
    }
   ],
   "source": [
    "results"
   ]
  }
 ],
 "metadata": {
  "kernelspec": {
   "display_name": "Pytorch Python 3.6 (conda env)",
   "language": "python",
   "name": "pt-py36"
  },
  "language_info": {
   "codemirror_mode": {
    "name": "ipython",
    "version": 3
   },
   "file_extension": ".py",
   "mimetype": "text/x-python",
   "name": "python",
   "nbconvert_exporter": "python",
   "pygments_lexer": "ipython3",
   "version": "3.6.10"
  }
 },
 "nbformat": 4,
 "nbformat_minor": 4
}
